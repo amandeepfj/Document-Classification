{
 "cells": [
  {
   "cell_type": "markdown",
   "metadata": {},
   "source": [
    "## Document Classification."
   ]
  },
  {
   "cell_type": "code",
   "execution_count": 26,
   "metadata": {},
   "outputs": [],
   "source": [
    "import pandas as pd\n",
    "import numpy as np\n",
    "from sklearn.feature_selection import chi2\n",
    "from sklearn.linear_model import LogisticRegression\n",
    "from sklearn.svm import LinearSVC\n",
    "from sklearn.model_selection import cross_val_score, train_test_split\n",
    "from sklearn.naive_bayes import MultinomialNB\n",
    "import seaborn as sns\n",
    "import matplotlib.pyplot as plt\n",
    "from sklearn.metrics import confusion_matrix, accuracy_score\n",
    "from sklearn.feature_extraction.text import TfidfVectorizer, CountVectorizer, TfidfTransformer\n",
    "from sklearn.feature_selection import SelectKBest\n",
    "from sklearn.feature_selection import chi2\n",
    "from sklearn.pipeline import Pipeline\n"
   ]
  },
  {
   "cell_type": "code",
   "execution_count": 27,
   "metadata": {},
   "outputs": [
    {
     "data": {
      "text/html": [
       "<div>\n",
       "<style scoped>\n",
       "    .dataframe tbody tr th:only-of-type {\n",
       "        vertical-align: middle;\n",
       "    }\n",
       "\n",
       "    .dataframe tbody tr th {\n",
       "        vertical-align: top;\n",
       "    }\n",
       "\n",
       "    .dataframe thead th {\n",
       "        text-align: right;\n",
       "    }\n",
       "</style>\n",
       "<table border=\"1\" class=\"dataframe\">\n",
       "  <thead>\n",
       "    <tr style=\"text-align: right;\">\n",
       "      <th></th>\n",
       "      <th>Category</th>\n",
       "      <th>Content</th>\n",
       "    </tr>\n",
       "  </thead>\n",
       "  <tbody>\n",
       "    <tr>\n",
       "      <th>0</th>\n",
       "      <td>DELETION OF INTEREST</td>\n",
       "      <td>e04a09c87692 d6b72e591b91 5d066f0246f1 ed41171...</td>\n",
       "    </tr>\n",
       "    <tr>\n",
       "      <th>1</th>\n",
       "      <td>RETURNED CHECK</td>\n",
       "      <td>a3b334c6eefd be95012ebf2b 41d67080e078 ff1c26e...</td>\n",
       "    </tr>\n",
       "    <tr>\n",
       "      <th>2</th>\n",
       "      <td>BILL</td>\n",
       "      <td>586242498a88 9ccf259ca087 54709b24b45f 6bf9c0c...</td>\n",
       "    </tr>\n",
       "    <tr>\n",
       "      <th>3</th>\n",
       "      <td>BILL</td>\n",
       "      <td>cd50e861f48b 6ca2dd348663 d38820625542 f077614...</td>\n",
       "    </tr>\n",
       "    <tr>\n",
       "      <th>4</th>\n",
       "      <td>BILL</td>\n",
       "      <td>9db5536263d8 1c303d15eb65 3f89b4673455 b73e657...</td>\n",
       "    </tr>\n",
       "  </tbody>\n",
       "</table>\n",
       "</div>"
      ],
      "text/plain": [
       "               Category                                            Content\n",
       "0  DELETION OF INTEREST  e04a09c87692 d6b72e591b91 5d066f0246f1 ed41171...\n",
       "1        RETURNED CHECK  a3b334c6eefd be95012ebf2b 41d67080e078 ff1c26e...\n",
       "2                  BILL  586242498a88 9ccf259ca087 54709b24b45f 6bf9c0c...\n",
       "3                  BILL  cd50e861f48b 6ca2dd348663 d38820625542 f077614...\n",
       "4                  BILL  9db5536263d8 1c303d15eb65 3f89b4673455 b73e657..."
      ]
     },
     "metadata": {},
     "output_type": "display_data"
    },
    {
     "name": "stdout",
     "output_type": "stream",
     "text": [
      "Shape of data is : (62204, 2)\n"
     ]
    }
   ],
   "source": [
    "df = pd.read_csv(\"shuffled-full-set-hashed.csv\", header = None)\n",
    "df.columns = ['Category', 'Content']\n",
    "display(df.head())\n",
    "print(\"Shape of data is : {}\".format(df.shape))"
   ]
  },
  {
   "cell_type": "code",
   "execution_count": null,
   "metadata": {},
   "outputs": [],
   "source": [
    "cnt_categories = df['Category'].value_counts()\n",
    "\n",
    "plt.figure(figsize=(12,4))\n",
    "g = sns.barplot(cnt_categories.index, cnt_categories.values, alpha=0.9)\n",
    "plt.ylabel('Number of Occurrences', fontsize=12)\n",
    "plt.xlabel('Category', fontsize=12)\n",
    "plt.xticks(rotation=90)\n",
    "\n",
    "plt.show()\n",
    "print(cnt_categories)"
   ]
  },
  {
   "cell_type": "code",
   "execution_count": 25,
   "metadata": {},
   "outputs": [
    {
     "data": {
      "text/plain": [
       "(61620, 3651)"
      ]
     },
     "execution_count": 25,
     "metadata": {},
     "output_type": "execute_result"
    }
   ],
   "source": [
    "# term frquency and document frequency vectorizer. Max_df and Min_df will filter out \n",
    "# terms that are very common(present in more than 70% of documents) or very rare(present in less than 1% documents)\n",
    "# we will consider both 1 gram and 2 grams.\n",
    "tfidf = TfidfVectorizer(sublinear_tf=True, max_df = 0.44, min_df = 0.01, norm='l2', ngram_range=(1, 2))\n",
    "\n",
    "features = tfidf.fit_transform(df['Content'].values.astype('U')).toarray()\n",
    "labels = df['Category']\n",
    "features.shape"
   ]
  },
  {
   "cell_type": "code",
   "execution_count": null,
   "metadata": {},
   "outputs": [],
   "source": [
    "N = 2\n",
    "MAX = 4\n",
    "i = 0\n",
    "for Product, category_id in sorted(labels.items()):\n",
    "    if i > MAX:\n",
    "        break\n",
    "    i = i + 1\n",
    "    features_chi2 = chi2(features, labels == category_id)\n",
    "    indices = np.argsort(features_chi2[0])\n",
    "    feature_names = np.array(tfidf.get_feature_names())[indices]\n",
    "    unigrams = [v for v in feature_names if len(v.split(' ')) == 1]\n",
    "    bigrams = [v for v in feature_names if len(v.split(' ')) == 2]\n",
    "    print(\"# '{}':\".format(Product))\n",
    "    print(\"  . Most correlated unigrams:\\n. {}\".format('\\n. '.join(unigrams[-N:])))\n",
    "    print(\"  . Most correlated bigrams:\\n. {}\".format('\\n. '.join(bigrams[-N:])))"
   ]
  },
  {
   "cell_type": "code",
   "execution_count": null,
   "metadata": {},
   "outputs": [],
   "source": [
    "models = [\n",
    "    LinearSVC(),\n",
    "    LogisticRegression(random_state=0),\n",
    "]\n",
    "CV = 5\n",
    "\n",
    "entries = []\n",
    "for model in models:\n",
    "    model_name = model.__class__.__name__\n",
    "    accuracies = cross_val_score(model, features, labels, scoring='accuracy', cv=CV)\n",
    "    for fold_idx, accuracy in enumerate(accuracies):\n",
    "        entries.append((model_name, fold_idx, accuracy))\n",
    "        \n",
    "cv_df = pd.DataFrame(entries, columns=['model_name', 'fold_idx', 'accuracy'])\n"
   ]
  },
  {
   "cell_type": "code",
   "execution_count": null,
   "metadata": {},
   "outputs": [],
   "source": [
    "sns.boxplot(x='model_name', y='accuracy', data=cv_df)\n",
    "sns.stripplot(x='model_name', y='accuracy', data=cv_df, \n",
    "              size=8, jitter=True, edgecolor=\"gray\", linewidth=2)\n",
    "plt.show()"
   ]
  },
  {
   "cell_type": "code",
   "execution_count": 26,
   "metadata": {},
   "outputs": [],
   "source": [
    "model = LinearSVC()\n",
    "X_train, X_test, y_train, y_test, indices_train, indices_test = train_test_split(features, labels, df.index, \n",
    "                                                                                 test_size=0.2, random_state=0)\n",
    "model.fit(X_train, y_train)\n",
    "y_pred = model.predict(X_test)\n",
    "conf_mat = confusion_matrix(y_test, y_pred)"
   ]
  },
  {
   "cell_type": "code",
   "execution_count": 27,
   "metadata": {},
   "outputs": [
    {
     "name": "stdout",
     "output_type": "stream",
     "text": [
      "0.8738234339500163\n"
     ]
    }
   ],
   "source": [
    "print(accuracy_score(y_test, y_pred))"
   ]
  },
  {
   "cell_type": "code",
   "execution_count": 28,
   "metadata": {},
   "outputs": [
    {
     "data": {
      "image/png": "[encoded data removed]",
      "text/plain": [
       "<Figure size 720x720 with 2 Axes>"
      ]
     },
     "metadata": {
      "needs_background": "light"
     },
     "output_type": "display_data"
    }
   ],
   "source": [
    "fig, ax = plt.subplots(figsize=(10,10))\n",
    "category_ids = df.groupby(['Category']).count().index\n",
    "sns.heatmap(conf_mat, annot=True, fmt='d',\n",
    "           xticklabels=category_ids, yticklabels=category_ids)\n",
    "plt.ylabel('Actual')\n",
    "plt.xlabel('Predicted')\n",
    "plt.show()"
   ]
  },
  {
   "cell_type": "code",
   "execution_count": 29,
   "metadata": {},
   "outputs": [
    {
     "data": {
      "text/plain": [
       "['model.pkl']"
      ]
     },
     "execution_count": 29,
     "metadata": {},
     "output_type": "execute_result"
    }
   ],
   "source": [
    "from sklearn.externals import joblib\n",
    "joblib.dump(model, 'model.pkl')"
   ]
  },
  {
   "cell_type": "code",
   "execution_count": 30,
   "metadata": {},
   "outputs": [
    {
     "data": {
      "text/html": [
       "<div>\n",
       "<style scoped>\n",
       "    .dataframe tbody tr th:only-of-type {\n",
       "        vertical-align: middle;\n",
       "    }\n",
       "\n",
       "    .dataframe tbody tr th {\n",
       "        vertical-align: top;\n",
       "    }\n",
       "\n",
       "    .dataframe thead th {\n",
       "        text-align: right;\n",
       "    }\n",
       "</style>\n",
       "<table border=\"1\" class=\"dataframe\">\n",
       "  <thead>\n",
       "    <tr style=\"text-align: right;\">\n",
       "      <th></th>\n",
       "      <th>Category</th>\n",
       "      <th>Content</th>\n",
       "    </tr>\n",
       "  </thead>\n",
       "  <tbody>\n",
       "    <tr>\n",
       "      <th>38396</th>\n",
       "      <td>BILL</td>\n",
       "      <td>3465ba174344 0beb9c74e2d3 fe3fe35491b4 189f09e...</td>\n",
       "    </tr>\n",
       "    <tr>\n",
       "      <th>61485</th>\n",
       "      <td>BILL</td>\n",
       "      <td>e0a718aaedd9 dee46d35626e e7e059c82399 b80facf...</td>\n",
       "    </tr>\n",
       "    <tr>\n",
       "      <th>35201</th>\n",
       "      <td>BILL</td>\n",
       "      <td>036087ac04f9 b136f6349cf3 6ca2dd348663 d388206...</td>\n",
       "    </tr>\n",
       "    <tr>\n",
       "      <th>26941</th>\n",
       "      <td>BILL</td>\n",
       "      <td>25c57acdf805 ce1f034abb5d 330f928ed5ce 422068f...</td>\n",
       "    </tr>\n",
       "    <tr>\n",
       "      <th>35533</th>\n",
       "      <td>CANCELLATION NOTICE</td>\n",
       "      <td>2dd786866fc1 4e5019f629a9 c4b9b465156f 26f7353...</td>\n",
       "    </tr>\n",
       "    <tr>\n",
       "      <th>45809</th>\n",
       "      <td>BILL BINDER</td>\n",
       "      <td>8d21095e8690 b208ae1e8232 81754cd738c6 6365c45...</td>\n",
       "    </tr>\n",
       "    <tr>\n",
       "      <th>5657</th>\n",
       "      <td>BINDER</td>\n",
       "      <td>f999a6afce31 3cb4a40c2b29 82ef4725a8b4 eeb86a6...</td>\n",
       "    </tr>\n",
       "    <tr>\n",
       "      <th>22122</th>\n",
       "      <td>POLICY CHANGE</td>\n",
       "      <td>cb7631b88e51 ba02159e05b1 97b6014f9e50 e7e059c...</td>\n",
       "    </tr>\n",
       "    <tr>\n",
       "      <th>20416</th>\n",
       "      <td>BINDER</td>\n",
       "      <td>a3041ad21875 bd50a6b2259f 1160c83555d2 6dc87f8...</td>\n",
       "    </tr>\n",
       "    <tr>\n",
       "      <th>16249</th>\n",
       "      <td>CANCELLATION NOTICE</td>\n",
       "      <td>8329bcfb80ba 25c57acdf805 ee94f34a89db f7ae6f8...</td>\n",
       "    </tr>\n",
       "  </tbody>\n",
       "</table>\n",
       "</div>"
      ],
      "text/plain": [
       "                  Category                                            Content\n",
       "38396                 BILL  3465ba174344 0beb9c74e2d3 fe3fe35491b4 189f09e...\n",
       "61485                 BILL  e0a718aaedd9 dee46d35626e e7e059c82399 b80facf...\n",
       "35201                 BILL  036087ac04f9 b136f6349cf3 6ca2dd348663 d388206...\n",
       "26941                 BILL  25c57acdf805 ce1f034abb5d 330f928ed5ce 422068f...\n",
       "35533  CANCELLATION NOTICE  2dd786866fc1 4e5019f629a9 c4b9b465156f 26f7353...\n",
       "45809          BILL BINDER  8d21095e8690 b208ae1e8232 81754cd738c6 6365c45...\n",
       "5657                BINDER  f999a6afce31 3cb4a40c2b29 82ef4725a8b4 eeb86a6...\n",
       "22122        POLICY CHANGE  cb7631b88e51 ba02159e05b1 97b6014f9e50 e7e059c...\n",
       "20416               BINDER  a3041ad21875 bd50a6b2259f 1160c83555d2 6dc87f8...\n",
       "16249  CANCELLATION NOTICE  8329bcfb80ba 25c57acdf805 ee94f34a89db f7ae6f8..."
      ]
     },
     "execution_count": 30,
     "metadata": {},
     "output_type": "execute_result"
    }
   ],
   "source": [
    "test_data"
   ]
  },
  {
   "cell_type": "code",
   "execution_count": 32,
   "metadata": {},
   "outputs": [
    {
     "name": "stdout",
     "output_type": "stream",
     "text": [
      "Feature Count\n",
      "CountVectorizer() # 3762\n",
      "Feature Set\n",
      "TfidfVectorizer() # (1649, 3762)\n"
     ]
    },
    {
     "ename": "ValueError",
     "evalue": "Expected 2D array, got scalar array instead:\narray=TfidfVectorizer(analyzer='word', binary=False, decode_error='strict',\n        dtype=<class 'numpy.float64'>, encoding='utf-8', input='content',\n        lowercase=True, max_df=0.44, max_features=None, min_df=0.01,\n        ngram_range=(1, 2), norm='l2', preprocessor=None, smooth_idf=True,\n        stop_words=None, strip_accents=None, sublinear_tf=False,\n        token_pattern='(?u)\\\\b\\\\w\\\\w+\\\\b', tokenizer=None, use_idf=True,\n        vocabulary=None).\nReshape your data either using array.reshape(-1, 1) if your data has a single feature or array.reshape(1, -1) if it contains a single sample.",
     "output_type": "error",
     "traceback": [
      "\u001b[1;31m---------------------------------------------------------------------------\u001b[0m",
      "\u001b[1;31mValueError\u001b[0m                                Traceback (most recent call last)",
      "\u001b[1;32m<ipython-input-32-bc15836d0301>\u001b[0m in \u001b[0;36m<module>\u001b[1;34m\u001b[0m\n\u001b[0;32m     16\u001b[0m \u001b[1;33m\u001b[0m\u001b[0m\n\u001b[0;32m     17\u001b[0m \u001b[0mselector\u001b[0m \u001b[1;33m=\u001b[0m \u001b[0mSelectKBest\u001b[0m\u001b[1;33m(\u001b[0m\u001b[0mchi2\u001b[0m\u001b[1;33m,\u001b[0m \u001b[0mk\u001b[0m\u001b[1;33m=\u001b[0m\u001b[1;36m1000\u001b[0m\u001b[1;33m)\u001b[0m\u001b[1;33m\u001b[0m\u001b[1;33m\u001b[0m\u001b[0m\n\u001b[1;32m---> 18\u001b[1;33m \u001b[0mselector\u001b[0m\u001b[1;33m.\u001b[0m\u001b[0mfit\u001b[0m\u001b[1;33m(\u001b[0m\u001b[0mcv\u001b[0m\u001b[1;33m,\u001b[0m \u001b[0mlabels_train\u001b[0m\u001b[1;33m)\u001b[0m\u001b[1;33m\u001b[0m\u001b[1;33m\u001b[0m\u001b[0m\n\u001b[0m\u001b[0;32m     19\u001b[0m \u001b[1;33m\u001b[0m\u001b[0m\n\u001b[0;32m     20\u001b[0m \u001b[0mclf\u001b[0m \u001b[1;33m=\u001b[0m \u001b[0mLinearSVC\u001b[0m\u001b[1;33m(\u001b[0m\u001b[1;33m)\u001b[0m\u001b[1;33m\u001b[0m\u001b[1;33m\u001b[0m\u001b[0m\n",
      "\u001b[1;32mc:\\users\\amandeep\\appdata\\local\\programs\\python\\python37\\lib\\site-packages\\sklearn\\feature_selection\\univariate_selection.py\u001b[0m in \u001b[0;36mfit\u001b[1;34m(self, X, y)\u001b[0m\n\u001b[0;32m    339\u001b[0m         \u001b[0mself\u001b[0m \u001b[1;33m:\u001b[0m \u001b[0mobject\u001b[0m\u001b[1;33m\u001b[0m\u001b[1;33m\u001b[0m\u001b[0m\n\u001b[0;32m    340\u001b[0m         \"\"\"\n\u001b[1;32m--> 341\u001b[1;33m         \u001b[0mX\u001b[0m\u001b[1;33m,\u001b[0m \u001b[0my\u001b[0m \u001b[1;33m=\u001b[0m \u001b[0mcheck_X_y\u001b[0m\u001b[1;33m(\u001b[0m\u001b[0mX\u001b[0m\u001b[1;33m,\u001b[0m \u001b[0my\u001b[0m\u001b[1;33m,\u001b[0m \u001b[1;33m[\u001b[0m\u001b[1;34m'csr'\u001b[0m\u001b[1;33m,\u001b[0m \u001b[1;34m'csc'\u001b[0m\u001b[1;33m]\u001b[0m\u001b[1;33m,\u001b[0m \u001b[0mmulti_output\u001b[0m\u001b[1;33m=\u001b[0m\u001b[1;32mTrue\u001b[0m\u001b[1;33m)\u001b[0m\u001b[1;33m\u001b[0m\u001b[1;33m\u001b[0m\u001b[0m\n\u001b[0m\u001b[0;32m    342\u001b[0m \u001b[1;33m\u001b[0m\u001b[0m\n\u001b[0;32m    343\u001b[0m         \u001b[1;32mif\u001b[0m \u001b[1;32mnot\u001b[0m \u001b[0mcallable\u001b[0m\u001b[1;33m(\u001b[0m\u001b[0mself\u001b[0m\u001b[1;33m.\u001b[0m\u001b[0mscore_func\u001b[0m\u001b[1;33m)\u001b[0m\u001b[1;33m:\u001b[0m\u001b[1;33m\u001b[0m\u001b[1;33m\u001b[0m\u001b[0m\n",
      "\u001b[1;32mc:\\users\\amandeep\\appdata\\local\\programs\\python\\python37\\lib\\site-packages\\sklearn\\utils\\validation.py\u001b[0m in \u001b[0;36mcheck_X_y\u001b[1;34m(X, y, accept_sparse, accept_large_sparse, dtype, order, copy, force_all_finite, ensure_2d, allow_nd, multi_output, ensure_min_samples, ensure_min_features, y_numeric, warn_on_dtype, estimator)\u001b[0m\n\u001b[0;32m    754\u001b[0m                     \u001b[0mensure_min_features\u001b[0m\u001b[1;33m=\u001b[0m\u001b[0mensure_min_features\u001b[0m\u001b[1;33m,\u001b[0m\u001b[1;33m\u001b[0m\u001b[1;33m\u001b[0m\u001b[0m\n\u001b[0;32m    755\u001b[0m                     \u001b[0mwarn_on_dtype\u001b[0m\u001b[1;33m=\u001b[0m\u001b[0mwarn_on_dtype\u001b[0m\u001b[1;33m,\u001b[0m\u001b[1;33m\u001b[0m\u001b[1;33m\u001b[0m\u001b[0m\n\u001b[1;32m--> 756\u001b[1;33m                     estimator=estimator)\n\u001b[0m\u001b[0;32m    757\u001b[0m     \u001b[1;32mif\u001b[0m \u001b[0mmulti_output\u001b[0m\u001b[1;33m:\u001b[0m\u001b[1;33m\u001b[0m\u001b[1;33m\u001b[0m\u001b[0m\n\u001b[0;32m    758\u001b[0m         y = check_array(y, 'csr', force_all_finite=True, ensure_2d=False,\n",
      "\u001b[1;32mc:\\users\\amandeep\\appdata\\local\\programs\\python\\python37\\lib\\site-packages\\sklearn\\utils\\validation.py\u001b[0m in \u001b[0;36mcheck_array\u001b[1;34m(array, accept_sparse, accept_large_sparse, dtype, order, copy, force_all_finite, ensure_2d, allow_nd, ensure_min_samples, ensure_min_features, warn_on_dtype, estimator)\u001b[0m\n\u001b[0;32m    543\u001b[0m                     \u001b[1;34m\"Reshape your data either using array.reshape(-1, 1) if \"\u001b[0m\u001b[1;33m\u001b[0m\u001b[1;33m\u001b[0m\u001b[0m\n\u001b[0;32m    544\u001b[0m                     \u001b[1;34m\"your data has a single feature or array.reshape(1, -1) \"\u001b[0m\u001b[1;33m\u001b[0m\u001b[1;33m\u001b[0m\u001b[0m\n\u001b[1;32m--> 545\u001b[1;33m                     \"if it contains a single sample.\".format(array))\n\u001b[0m\u001b[0;32m    546\u001b[0m             \u001b[1;31m# If input is 1D raise error\u001b[0m\u001b[1;33m\u001b[0m\u001b[1;33m\u001b[0m\u001b[1;33m\u001b[0m\u001b[0m\n\u001b[0;32m    547\u001b[0m             \u001b[1;32mif\u001b[0m \u001b[0marray\u001b[0m\u001b[1;33m.\u001b[0m\u001b[0mndim\u001b[0m \u001b[1;33m==\u001b[0m \u001b[1;36m1\u001b[0m\u001b[1;33m:\u001b[0m\u001b[1;33m\u001b[0m\u001b[1;33m\u001b[0m\u001b[0m\n",
      "\u001b[1;31mValueError\u001b[0m: Expected 2D array, got scalar array instead:\narray=TfidfVectorizer(analyzer='word', binary=False, decode_error='strict',\n        dtype=<class 'numpy.float64'>, encoding='utf-8', input='content',\n        lowercase=True, max_df=0.44, max_features=None, min_df=0.01,\n        ngram_range=(1, 2), norm='l2', preprocessor=None, smooth_idf=True,\n        stop_words=None, strip_accents=None, sublinear_tf=False,\n        token_pattern='(?u)\\\\b\\\\w\\\\w+\\\\b', tokenizer=None, use_idf=True,\n        vocabulary=None).\nReshape your data either using array.reshape(-1, 1) if your data has a single feature or array.reshape(1, -1) if it contains a single sample."
     ]
    }
   ],
   "source": [
    "features_train, features_test, labels_train, labels_test = train_test_split(df['Content'], df['Category'], random_state = 42, test_size=0.34)\n",
    "\n",
    "### CountVectorizer\n",
    "##\n",
    "#\n",
    "cv = TfidfVectorizer(ngram_range=(1,2), min_df=0.01, max_df=0.44, norm='l2')\n",
    "features_train_cv = cv.fit_transform(features_train.values.astype('U'))\n",
    "# Uncomment to print a matrix count of tokens\n",
    "# print(features_train_cv.toarray())\n",
    "print(\"Feature Count\\nCountVectorizer() #\", len(cv.get_feature_names()))\n",
    "\n",
    "\n",
    "tfidfv = TfidfTransformer(use_idf=True)\n",
    "tfidfv = TfidfVectorizer(sublinear_tf=True, max_df = 0.44, min_df = 0.01, ngram_range=(1, 2))\n",
    "features_train_tfidfv = tfidfv.fit_transform(features_train_cv)\n",
    "print(\"Feature Set\\nTfidfVectorizer() #\", features_train_tfidfv.shape)\n",
    "\n",
    "selector = SelectKBest(chi2, k=1000)\n",
    "selector.fit(features_train_tfidfv, labels_train)\n",
    "\n",
    "clf = LinearSVC()\n",
    "clf.fit(selector.transform(features_train_tfidfv), labels_train)\n",
    "\n",
    "\n",
    "### Test Model\n",
    "##\n",
    "#\n",
    "features_test_cv = cv.transform(features_test.values.astype('U'))\n",
    "features_test_cv_two = tfidfv.transform(features_test_cv)\n",
    "features_test_cv = selector.transform(features_test_cv_two)\n",
    "pred = clf.predict(features_test_cv)"
   ]
  },
  {
   "cell_type": "code",
   "execution_count": 34,
   "metadata": {},
   "outputs": [
    {
     "name": "stdout",
     "output_type": "stream",
     "text": [
      "Feature Count\n",
      "CountVectorizer() # 3762\n"
     ]
    },
    {
     "data": {
      "text/plain": [
       "array(['BILL', 'BINDER', 'CANCELLATION NOTICE', 'BILL',\n",
       "       'DELETION OF INTEREST', 'BINDER', 'CANCELLATION NOTICE',\n",
       "       'POLICY CHANGE', 'BINDER', 'CANCELLATION NOTICE', 'BILL',\n",
       "       'POLICY CHANGE', 'BINDER', 'REINSTATEMENT NOTICE',\n",
       "       'DELETION OF INTEREST', 'BILL', 'BINDER', 'POLICY CHANGE',\n",
       "       'BINDER', 'POLICY CHANGE', 'CANCELLATION NOTICE', 'BILL',\n",
       "       'POLICY CHANGE', 'POLICY CHANGE', 'BILL', 'BILL',\n",
       "       'REINSTATEMENT NOTICE', 'CANCELLATION NOTICE', 'BINDER',\n",
       "       'DELETION OF INTEREST', 'BILL', 'REINSTATEMENT NOTICE', 'BINDER',\n",
       "       'REINSTATEMENT NOTICE', 'BILL', 'CANCELLATION NOTICE', 'BILL',\n",
       "       'BILL', 'POLICY CHANGE', 'BILL', 'BILL', 'BILL', 'BINDER',\n",
       "       'POLICY CHANGE', 'BILL', 'POLICY CHANGE', 'BILL', 'BILL',\n",
       "       'POLICY CHANGE', 'CANCELLATION NOTICE', 'BILL',\n",
       "       'CANCELLATION NOTICE', 'CANCELLATION NOTICE', 'POLICY CHANGE',\n",
       "       'POLICY CHANGE', 'BILL', 'BINDER', 'BILL', 'CANCELLATION NOTICE',\n",
       "       'REINSTATEMENT NOTICE', 'BINDER', 'BILL', 'BILL',\n",
       "       'REINSTATEMENT NOTICE', 'POLICY CHANGE', 'BINDER', 'BILL', 'BILL',\n",
       "       'POLICY CHANGE', 'CHANGE ENDORSEMENT', 'POLICY CHANGE', 'BILL',\n",
       "       'BILL', 'BILL', 'CANCELLATION NOTICE', 'EXPIRATION NOTICE',\n",
       "       'CANCELLATION NOTICE', 'BINDER', 'BINDER', 'BINDER',\n",
       "       'INTENT TO CANCEL NOTICE', 'BILL', 'POLICY CHANGE',\n",
       "       'POLICY CHANGE', 'BILL', 'BINDER', 'BILL', 'DELETION OF INTEREST',\n",
       "       'CANCELLATION NOTICE', 'POLICY CHANGE', 'CANCELLATION NOTICE',\n",
       "       'BILL', 'POLICY CHANGE', 'DELETION OF INTEREST',\n",
       "       'CANCELLATION NOTICE', 'CANCELLATION NOTICE',\n",
       "       'DELETION OF INTEREST', 'POLICY CHANGE', 'BILL', 'POLICY CHANGE',\n",
       "       'BILL', 'BILL', 'POLICY CHANGE', 'BINDER', 'POLICY CHANGE',\n",
       "       'POLICY CHANGE', 'CANCELLATION NOTICE', 'DELETION OF INTEREST',\n",
       "       'BINDER', 'BILL', 'BILL', 'BILL', 'CANCELLATION NOTICE', 'BILL',\n",
       "       'BINDER', 'BINDER', 'CANCELLATION NOTICE', 'POLICY CHANGE',\n",
       "       'BINDER', 'CANCELLATION NOTICE', 'BINDER', 'CANCELLATION NOTICE',\n",
       "       'BILL', 'BINDER', 'BILL', 'BILL', 'POLICY CHANGE', 'BILL', 'BILL',\n",
       "       'POLICY CHANGE', 'BILL', 'BILL', 'REINSTATEMENT NOTICE',\n",
       "       'CANCELLATION NOTICE', 'POLICY CHANGE', 'CHANGE ENDORSEMENT',\n",
       "       'POLICY CHANGE', 'BINDER', 'CANCELLATION NOTICE', 'POLICY CHANGE',\n",
       "       'BINDER', 'REINSTATEMENT NOTICE', 'BILL', 'BILL',\n",
       "       'DELETION OF INTEREST', 'POLICY CHANGE', 'BILL', 'POLICY CHANGE',\n",
       "       'CANCELLATION NOTICE', 'BILL', 'BILL', 'BINDER', 'POLICY CHANGE',\n",
       "       'DELETION OF INTEREST', 'BILL', 'CANCELLATION NOTICE', 'BINDER',\n",
       "       'BINDER', 'CANCELLATION NOTICE', 'POLICY CHANGE', 'BILL', 'BINDER',\n",
       "       'DELETION OF INTEREST', 'BINDER', 'CANCELLATION NOTICE', 'BILL',\n",
       "       'BILL', 'BINDER', 'BILL', 'CANCELLATION NOTICE',\n",
       "       'CANCELLATION NOTICE', 'CHANGE ENDORSEMENT', 'CANCELLATION NOTICE',\n",
       "       'BINDER', 'REINSTATEMENT NOTICE', 'BILL', 'CANCELLATION NOTICE',\n",
       "       'POLICY CHANGE', 'DELETION OF INTEREST', 'POLICY CHANGE',\n",
       "       'CANCELLATION NOTICE', 'BILL', 'BILL', 'BINDER', 'POLICY CHANGE',\n",
       "       'REINSTATEMENT NOTICE', 'POLICY CHANGE', 'DELETION OF INTEREST',\n",
       "       'BILL', 'REINSTATEMENT NOTICE', 'POLICY CHANGE',\n",
       "       'CANCELLATION NOTICE', 'EXPIRATION NOTICE', 'POLICY CHANGE',\n",
       "       'POLICY CHANGE', 'BILL', 'BILL', 'CANCELLATION NOTICE', 'BILL',\n",
       "       'BILL', 'CANCELLATION NOTICE', 'POLICY CHANGE', 'BINDER',\n",
       "       'CANCELLATION NOTICE', 'BINDER', 'DELETION OF INTEREST', 'BINDER',\n",
       "       'CANCELLATION NOTICE', 'BILL', 'BILL', 'DELETION OF INTEREST',\n",
       "       'CANCELLATION NOTICE', 'POLICY CHANGE', 'BILL', 'POLICY CHANGE',\n",
       "       'DELETION OF INTEREST', 'CANCELLATION NOTICE', 'POLICY CHANGE',\n",
       "       'BILL', 'REINSTATEMENT NOTICE', 'CANCELLATION NOTICE',\n",
       "       'RETURNED CHECK', 'BILL', 'BILL', 'POLICY CHANGE', 'POLICY CHANGE',\n",
       "       'POLICY CHANGE', 'REINSTATEMENT NOTICE', 'BILL',\n",
       "       'CANCELLATION NOTICE', 'BILL', 'DELETION OF INTEREST', 'BINDER',\n",
       "       'REINSTATEMENT NOTICE', 'CANCELLATION NOTICE', 'BINDER',\n",
       "       'DELETION OF INTEREST', 'CANCELLATION NOTICE', 'BILL',\n",
       "       'POLICY CHANGE', 'POLICY CHANGE', 'REINSTATEMENT NOTICE', 'BILL',\n",
       "       'CANCELLATION NOTICE', 'BINDER', 'POLICY CHANGE', 'BILL', 'BILL',\n",
       "       'POLICY CHANGE', 'CHANGE ENDORSEMENT', 'POLICY CHANGE',\n",
       "       'CANCELLATION NOTICE', 'POLICY CHANGE', 'DELETION OF INTEREST',\n",
       "       'POLICY CHANGE', 'BINDER', 'CANCELLATION NOTICE', 'POLICY CHANGE',\n",
       "       'DELETION OF INTEREST', 'BILL', 'CANCELLATION NOTICE',\n",
       "       'CHANGE ENDORSEMENT', 'BILL', 'BILL', 'BILL',\n",
       "       'DELETION OF INTEREST', 'DELETION OF INTEREST', 'BILL', 'BILL',\n",
       "       'DELETION OF INTEREST', 'BILL', 'BILL', 'BILL',\n",
       "       'DELETION OF INTEREST', 'POLICY CHANGE', 'BILL', 'BILL',\n",
       "       'POLICY CHANGE', 'BILL', 'EXPIRATION NOTICE', 'BILL',\n",
       "       'DELETION OF INTEREST', 'BILL', 'BINDER', 'DELETION OF INTEREST',\n",
       "       'POLICY CHANGE', 'CHANGE ENDORSEMENT', 'BINDER', 'BINDER', 'BILL',\n",
       "       'REINSTATEMENT NOTICE', 'BILL', 'POLICY CHANGE',\n",
       "       'CANCELLATION NOTICE', 'DELETION OF INTEREST', 'BILL',\n",
       "       'POLICY CHANGE', 'CANCELLATION NOTICE', 'DELETION OF INTEREST',\n",
       "       'BILL', 'REINSTATEMENT NOTICE', 'BILL', 'BILL',\n",
       "       'CANCELLATION NOTICE', 'CANCELLATION NOTICE', 'BINDER',\n",
       "       'CANCELLATION NOTICE', 'BILL', 'CANCELLATION NOTICE', 'BINDER',\n",
       "       'CANCELLATION NOTICE', 'CANCELLATION NOTICE',\n",
       "       'CANCELLATION NOTICE', 'CANCELLATION NOTICE',\n",
       "       'DELETION OF INTEREST', 'CANCELLATION NOTICE', 'POLICY CHANGE',\n",
       "       'RETURNED CHECK', 'BILL', 'CANCELLATION NOTICE', 'BILL', 'BILL',\n",
       "       'BINDER', 'BILL', 'POLICY CHANGE', 'BILL', 'POLICY CHANGE',\n",
       "       'BINDER', 'BILL', 'BINDER', 'BILL', 'REINSTATEMENT NOTICE',\n",
       "       'POLICY CHANGE', 'BILL', 'BILL', 'REINSTATEMENT NOTICE',\n",
       "       'POLICY CHANGE', 'BINDER', 'POLICY CHANGE', 'POLICY CHANGE',\n",
       "       'BILL', 'BILL', 'BILL', 'CANCELLATION NOTICE',\n",
       "       'CANCELLATION NOTICE', 'DELETION OF INTEREST',\n",
       "       'CANCELLATION NOTICE', 'POLICY CHANGE', 'CANCELLATION NOTICE',\n",
       "       'BILL', 'BINDER', 'BILL', 'POLICY CHANGE', 'POLICY CHANGE', 'BILL',\n",
       "       'BINDER', 'BILL', 'BILL', 'DELETION OF INTEREST', 'BINDER', 'BILL',\n",
       "       'CANCELLATION NOTICE', 'CANCELLATION NOTICE', 'BINDER', 'BILL',\n",
       "       'BILL', 'POLICY CHANGE', 'BILL', 'BILL', 'POLICY CHANGE',\n",
       "       'CANCELLATION NOTICE', 'DELETION OF INTEREST', 'BILL', 'BILL',\n",
       "       'BINDER', 'CANCELLATION NOTICE', 'POLICY CHANGE', 'POLICY CHANGE',\n",
       "       'CANCELLATION NOTICE', 'BILL', 'POLICY CHANGE', 'BILL', 'BILL',\n",
       "       'POLICY CHANGE', 'BILL', 'CANCELLATION NOTICE',\n",
       "       'CANCELLATION NOTICE', 'DELETION OF INTEREST',\n",
       "       'CANCELLATION NOTICE', 'DELETION OF INTEREST', 'POLICY CHANGE',\n",
       "       'CANCELLATION NOTICE', 'CANCELLATION NOTICE', 'POLICY CHANGE',\n",
       "       'BINDER', 'BILL', 'BILL', 'POLICY CHANGE', 'BILL',\n",
       "       'CANCELLATION NOTICE', 'DELETION OF INTEREST', 'BILL', 'BINDER',\n",
       "       'DELETION OF INTEREST', 'CANCELLATION NOTICE',\n",
       "       'CANCELLATION NOTICE', 'BILL', 'CANCELLATION NOTICE', 'BILL',\n",
       "       'BILL', 'CANCELLATION NOTICE', 'CANCELLATION NOTICE', 'BILL',\n",
       "       'BINDER', 'CANCELLATION NOTICE', 'CANCELLATION NOTICE', 'BINDER',\n",
       "       'POLICY CHANGE', 'BINDER', 'BILL', 'POLICY CHANGE',\n",
       "       'CANCELLATION NOTICE', 'CANCELLATION NOTICE',\n",
       "       'REINSTATEMENT NOTICE', 'POLICY CHANGE', 'BINDER', 'POLICY CHANGE',\n",
       "       'BINDER', 'BILL', 'CANCELLATION NOTICE', 'BILL',\n",
       "       'CANCELLATION NOTICE', 'DELETION OF INTEREST', 'POLICY CHANGE',\n",
       "       'BINDER', 'CANCELLATION NOTICE', 'POLICY CHANGE', 'POLICY CHANGE',\n",
       "       'REINSTATEMENT NOTICE', 'CANCELLATION NOTICE', 'BILL', 'BINDER',\n",
       "       'BILL', 'CANCELLATION NOTICE', 'POLICY CHANGE', 'BINDER', 'BILL',\n",
       "       'BILL', 'CHANGE ENDORSEMENT', 'REINSTATEMENT NOTICE',\n",
       "       'DELETION OF INTEREST', 'BILL', 'BILL', 'BINDER', 'DECLARATION',\n",
       "       'DELETION OF INTEREST', 'CANCELLATION NOTICE',\n",
       "       'CANCELLATION NOTICE', 'CANCELLATION NOTICE', 'BILL', 'BINDER',\n",
       "       'CANCELLATION NOTICE', 'POLICY CHANGE', 'BINDER', 'POLICY CHANGE',\n",
       "       'POLICY CHANGE', 'CANCELLATION NOTICE', 'CANCELLATION NOTICE',\n",
       "       'POLICY CHANGE', 'POLICY CHANGE', 'BINDER', 'BINDER',\n",
       "       'REINSTATEMENT NOTICE', 'POLICY CHANGE', 'BILL', 'POLICY CHANGE',\n",
       "       'BILL', 'POLICY CHANGE', 'CANCELLATION NOTICE', 'BILL', 'BINDER',\n",
       "       'BILL', 'BILL', 'DELETION OF INTEREST', 'REINSTATEMENT NOTICE',\n",
       "       'BILL', 'POLICY CHANGE', 'REINSTATEMENT NOTICE', 'BILL',\n",
       "       'POLICY CHANGE', 'BILL', 'BILL', 'BILL', 'POLICY CHANGE',\n",
       "       'CANCELLATION NOTICE', 'BINDER', 'BILL', 'BINDER', 'BINDER',\n",
       "       'BILL', 'REINSTATEMENT NOTICE', 'BINDER', 'POLICY CHANGE', 'BILL',\n",
       "       'POLICY CHANGE', 'BINDER', 'BINDER', 'REINSTATEMENT NOTICE',\n",
       "       'POLICY CHANGE', 'BINDER', 'CANCELLATION NOTICE', 'BINDER', 'BILL',\n",
       "       'CANCELLATION NOTICE', 'BILL', 'BINDER', 'REINSTATEMENT NOTICE',\n",
       "       'POLICY CHANGE', 'DELETION OF INTEREST', 'POLICY CHANGE', 'BILL',\n",
       "       'BINDER', 'CANCELLATION NOTICE', 'POLICY CHANGE', 'BILL',\n",
       "       'CANCELLATION NOTICE', 'BILL', 'BILL', 'BILL',\n",
       "       'CANCELLATION NOTICE', 'BINDER', 'BILL', 'POLICY CHANGE',\n",
       "       'CANCELLATION NOTICE', 'CANCELLATION NOTICE', 'BILL', 'BILL',\n",
       "       'EXPIRATION NOTICE', 'DELETION OF INTEREST', 'POLICY CHANGE',\n",
       "       'REINSTATEMENT NOTICE', 'BILL', 'BILL', 'POLICY CHANGE',\n",
       "       'RETURNED CHECK', 'POLICY CHANGE', 'BINDER', 'CANCELLATION NOTICE',\n",
       "       'DELETION OF INTEREST', 'BILL', 'BILL', 'BILL',\n",
       "       'REINSTATEMENT NOTICE', 'CANCELLATION NOTICE', 'BILL', 'BILL',\n",
       "       'BILL', 'BINDER', 'BINDER', 'BILL', 'CANCELLATION NOTICE', 'BILL',\n",
       "       'BILL', 'BILL', 'BINDER', 'BINDER', 'REINSTATEMENT NOTICE', 'BILL',\n",
       "       'BILL', 'BILL', 'BINDER', 'REINSTATEMENT NOTICE',\n",
       "       'CANCELLATION NOTICE', 'POLICY CHANGE', 'DELETION OF INTEREST',\n",
       "       'BILL', 'POLICY CHANGE', 'REINSTATEMENT NOTICE', 'BILL',\n",
       "       'NON-RENEWAL NOTICE', 'BILL', 'CANCELLATION NOTICE', 'BILL',\n",
       "       'BILL', 'DELETION OF INTEREST', 'BINDER', 'BINDER', 'BILL',\n",
       "       'POLICY CHANGE', 'BILL', 'BINDER', 'POLICY CHANGE', 'BINDER',\n",
       "       'BINDER', 'POLICY CHANGE', 'BILL', 'BILL', 'BILL', 'BILL', 'BILL',\n",
       "       'POLICY CHANGE', 'BILL', 'CANCELLATION NOTICE',\n",
       "       'CANCELLATION NOTICE', 'BILL', 'BINDER', 'POLICY CHANGE', 'BILL',\n",
       "       'BILL', 'POLICY CHANGE', 'REINSTATEMENT NOTICE', 'BILL',\n",
       "       'CANCELLATION NOTICE', 'BINDER', 'BILL', 'BILL', 'BILL', 'BILL',\n",
       "       'POLICY CHANGE', 'BILL', 'REINSTATEMENT NOTICE', 'BILL', 'BILL',\n",
       "       'BINDER', 'BILL', 'BINDER', 'RETURNED CHECK', 'BINDER',\n",
       "       'REINSTATEMENT NOTICE', 'REINSTATEMENT NOTICE', 'BILL', 'BILL',\n",
       "       'BILL', 'BINDER', 'BILL', 'BILL', 'POLICY CHANGE',\n",
       "       'REINSTATEMENT NOTICE', 'DELETION OF INTEREST', 'BINDER',\n",
       "       'CANCELLATION NOTICE', 'BILL', 'CANCELLATION NOTICE',\n",
       "       'POLICY CHANGE', 'BILL', 'DELETION OF INTEREST', 'POLICY CHANGE',\n",
       "       'BINDER', 'NON-RENEWAL NOTICE', 'BILL', 'BILL', 'BINDER',\n",
       "       'DELETION OF INTEREST', 'CANCELLATION NOTICE',\n",
       "       'DELETION OF INTEREST', 'BINDER', 'POLICY CHANGE', 'BILL',\n",
       "       'POLICY CHANGE', 'BILL', 'BILL', 'BILL', 'CANCELLATION NOTICE',\n",
       "       'CANCELLATION NOTICE', 'CANCELLATION NOTICE', 'POLICY CHANGE',\n",
       "       'BILL', 'BILL', 'BILL', 'BILL', 'BILL', 'CHANGE ENDORSEMENT',\n",
       "       'BILL', 'BILL', 'CANCELLATION NOTICE', 'DELETION OF INTEREST',\n",
       "       'POLICY CHANGE', 'DELETION OF INTEREST', 'POLICY CHANGE', 'BILL',\n",
       "       'BILL', 'POLICY CHANGE', 'CANCELLATION NOTICE', 'BILL', 'BILL',\n",
       "       'BILL', 'CANCELLATION NOTICE', 'CANCELLATION NOTICE', 'BILL',\n",
       "       'BINDER', 'CANCELLATION NOTICE', 'BILL', 'BILL', 'BILL', 'BINDER',\n",
       "       'CANCELLATION NOTICE', 'CANCELLATION NOTICE', 'POLICY CHANGE',\n",
       "       'BINDER', 'NON-RENEWAL NOTICE', 'CANCELLATION NOTICE', 'BILL',\n",
       "       'REINSTATEMENT NOTICE', 'BILL', 'POLICY CHANGE',\n",
       "       'DELETION OF INTEREST', 'POLICY CHANGE', 'REINSTATEMENT NOTICE',\n",
       "       'NON-RENEWAL NOTICE', 'BILL', 'BILL', 'BINDER', 'BINDER',\n",
       "       'REINSTATEMENT NOTICE', 'BINDER', 'BINDER', 'REINSTATEMENT NOTICE',\n",
       "       'BILL', 'CANCELLATION NOTICE', 'BILL', 'BILL',\n",
       "       'DELETION OF INTEREST', 'BILL', 'BINDER', 'REINSTATEMENT NOTICE',\n",
       "       'CANCELLATION NOTICE', 'CANCELLATION NOTICE', 'BILL', 'BILL',\n",
       "       'CANCELLATION NOTICE', 'CANCELLATION NOTICE',\n",
       "       'CANCELLATION NOTICE', 'BILL', 'BILL', 'DELETION OF INTEREST',\n",
       "       'POLICY CHANGE', 'DELETION OF INTEREST', 'DELETION OF INTEREST',\n",
       "       'CANCELLATION NOTICE', 'BINDER', 'BILL', 'CHANGE ENDORSEMENT',\n",
       "       'BINDER', 'BILL', 'BILL', 'BILL', 'BINDER', 'BILL', 'BILL', 'BILL',\n",
       "       'BILL', 'NON-RENEWAL NOTICE', 'POLICY CHANGE',\n",
       "       'CANCELLATION NOTICE', 'BILL', 'POLICY CHANGE', 'BILL',\n",
       "       'DELETION OF INTEREST', 'REINSTATEMENT NOTICE',\n",
       "       'DELETION OF INTEREST', 'BINDER', 'POLICY CHANGE', 'BINDER',\n",
       "       'POLICY CHANGE', 'CANCELLATION NOTICE', 'BILL', 'BILL', 'BILL',\n",
       "       'BINDER', 'CANCELLATION NOTICE', 'POLICY CHANGE',\n",
       "       'CANCELLATION NOTICE', 'POLICY CHANGE', 'DELETION OF INTEREST',\n",
       "       'BINDER', 'BILL', 'POLICY CHANGE', 'BINDER', 'CANCELLATION NOTICE',\n",
       "       'CANCELLATION NOTICE', 'BINDER', 'BINDER', 'CANCELLATION NOTICE',\n",
       "       'POLICY CHANGE', 'CANCELLATION NOTICE', 'REINSTATEMENT NOTICE',\n",
       "       'DELETION OF INTEREST', 'CANCELLATION NOTICE', 'BINDER', 'BILL',\n",
       "       'REINSTATEMENT NOTICE', 'DELETION OF INTEREST', 'BILL',\n",
       "       'POLICY CHANGE', 'CANCELLATION NOTICE', 'BINDER', 'BILL', 'BILL',\n",
       "       'DELETION OF INTEREST', 'BILL', 'BILL', 'BILL', 'BINDER', 'BILL',\n",
       "       'BILL', 'POLICY CHANGE', 'BINDER', 'BILL', 'CANCELLATION NOTICE',\n",
       "       'POLICY CHANGE', 'EXPIRATION NOTICE', 'CANCELLATION NOTICE',\n",
       "       'BILL', 'CANCELLATION NOTICE', 'BINDER', 'POLICY CHANGE', 'BILL',\n",
       "       'DELETION OF INTEREST', 'BILL', 'POLICY CHANGE', 'BILL', 'BILL',\n",
       "       'REINSTATEMENT NOTICE', 'BILL', 'POLICY CHANGE', 'BILL',\n",
       "       'DELETION OF INTEREST', 'CANCELLATION NOTICE',\n",
       "       'CANCELLATION NOTICE', 'BILL', 'BINDER', 'DELETION OF INTEREST',\n",
       "       'DELETION OF INTEREST', 'DELETION OF INTEREST', 'BINDER', 'BINDER',\n",
       "       'DELETION OF INTEREST', 'BILL', 'BINDER', 'POLICY CHANGE',\n",
       "       'BINDER', 'POLICY CHANGE', 'CANCELLATION NOTICE', 'BINDER', 'BILL',\n",
       "       'BILL', 'POLICY CHANGE', 'CANCELLATION NOTICE',\n",
       "       'DELETION OF INTEREST', 'POLICY CHANGE'], dtype=object)"
      ]
     },
     "execution_count": 34,
     "metadata": {},
     "output_type": "execute_result"
    }
   ],
   "source": [
    "features_train, features_test, labels_train, labels_test = train_test_split(df['Content'], df['Category'], random_state = 42, test_size=0.34)\n",
    "\n",
    "### TfidfVectorizer\n",
    "cv = TfidfVectorizer(ngram_range=(1,2), min_df=0.01, max_df=0.44, norm='l2')\n",
    "features_train_cv = cv.fit_transform(features_train.values.astype('U'))\n",
    "\n",
    "print(\"Feature Count\\nCountVectorizer() #\", len(cv.get_feature_names()))\n",
    "\n",
    "selector = SelectKBest(chi2, k=1000)\n",
    "selector.fit(features_train_cv, labels_train)\n",
    "\n",
    "clf = LinearSVC()\n",
    "clf.fit(selector.transform(features_train_cv), labels_train)\n",
    "\n",
    "\n",
    "features_test_cv = cv.transform(features_test.values.astype('U'))\n",
    "features_test_cv = selector.transform(features_test_cv)\n",
    "pred = clf.predict(features_test_cv)\n",
    "pred"
   ]
  },
  {
   "cell_type": "code",
   "execution_count": 28,
   "metadata": {},
   "outputs": [
    {
     "data": {
      "text/plain": [
       "['model.pkl']"
      ]
     },
     "execution_count": 28,
     "metadata": {},
     "output_type": "execute_result"
    }
   ],
   "source": [
    "(features_train, labels_train) = (df['Content'].values.astype('U'), df['Category'])\n",
    "\n",
    "### TfidfVectorizer\n",
    "tfidfv = TfidfVectorizer(ngram_range=(1,2), min_df=0.01, max_df=0.44, norm='l2')\n",
    "\n",
    "## Selector\n",
    "selector = SelectKBest(chi2, k=1000)\n",
    "\n",
    "linearsvc = Pipeline([('vect', tfidfv),\n",
    "                ('selector', selector),\n",
    "                ('clf', clf),\n",
    "               ])\n",
    "linearsvc.fit(features_train, labels_train)\n",
    "\n",
    "from sklearn.externals import joblib\n",
    "joblib.dump(linearsvc, 'model.pkl')"
   ]
  },
  {
   "cell_type": "code",
   "execution_count": 37,
   "metadata": {},
   "outputs": [
    {
     "data": {
      "text/plain": [
       "['model_2.pkl']"
      ]
     },
     "execution_count": 37,
     "metadata": {},
     "output_type": "execute_result"
    }
   ],
   "source": [
    "from sklearn.externals import joblib\n",
    "joblib.dump(linearsvc, 'model_2.pkl', protocol=2)"
   ]
  },
  {
   "cell_type": "code",
   "execution_count": 30,
   "metadata": {},
   "outputs": [],
   "source": [
    "classifier = open('model.pkl', 'rb')\n",
    "model = joblib.load(classifier)"
   ]
  },
  {
   "cell_type": "code",
   "execution_count": 43,
   "metadata": {},
   "outputs": [
    {
     "data": {
      "text/plain": [
       "['model_light.pkl']"
      ]
     },
     "execution_count": 43,
     "metadata": {},
     "output_type": "execute_result"
    }
   ],
   "source": [
    "(features_train, labels_train) = (df.loc[1:40,'Content'].values.astype('U'), df.loc[1:40,'Category'])\n",
    "\n",
    "### TfidfVectorizer\n",
    "tfidfv = TfidfVectorizer(ngram_range=(1,2), min_df=0.01, max_df=0.44, norm='l2')\n",
    "\n",
    "## Selector\n",
    "selector = SelectKBest(chi2, k=1000)\n",
    "\n",
    "linearsvc = Pipeline([('vect', tfidfv),\n",
    "                ('selector', selector),\n",
    "                ('clf', clf),\n",
    "               ])\n",
    "linearsvc.fit(features_train, labels_train)\n",
    "\n",
    "from sklearn.externals import joblib\n",
    "joblib.dump(linearsvc, 'model_light.pkl', protocol=2)"
   ]
  }
 ],
 "metadata": {
  "kernelspec": {
   "display_name": "Python 3",
   "language": "python",
   "name": "python3"
  },
  "language_info": {
   "codemirror_mode": {
    "name": "ipython",
    "version": 3
   },
   "file_extension": ".py",
   "mimetype": "text/x-python",
   "name": "python",
   "nbconvert_exporter": "python",
   "pygments_lexer": "ipython3",
   "version": "3.7.2"
  }
 },
 "nbformat": 4,
 "nbformat_minor": 2
}
