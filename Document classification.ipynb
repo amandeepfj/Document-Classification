{
 "cells": [
  {
   "cell_type": "code",
   "execution_count": 1,
   "metadata": {},
   "outputs": [],
   "source": [
    "import pandas as pd\n",
    "import numpy as np\n",
    "from sklearn.feature_selection import chi2\n",
    "from sklearn.linear_model import LogisticRegression\n",
    "from sklearn.svm import LinearSVC\n",
    "from sklearn.model_selection import cross_val_score\n",
    "from sklearn.naive_bayes import MultinomialNB\n",
    "import seaborn as sns\n",
    "import matplotlib.pyplot as plt"
   ]
  },
  {
   "cell_type": "code",
   "execution_count": 2,
   "metadata": {},
   "outputs": [
    {
     "data": {
      "text/plain": [
       "(62204, 2)"
      ]
     },
     "execution_count": 2,
     "metadata": {},
     "output_type": "execute_result"
    }
   ],
   "source": [
    "df = pd.read_csv(\"shuffled-full-set-hashed.csv\", header = None)\n",
    "df.columns = ['Category', 'Content']\n",
    "df.shape"
   ]
  },
  {
   "cell_type": "code",
   "execution_count": 3,
   "metadata": {},
   "outputs": [
    {
     "data": {
      "text/plain": [
       "BILL                       18968\n",
       "POLICY CHANGE              10627\n",
       "CANCELLATION NOTICE         9731\n",
       "BINDER                      8973\n",
       "DELETION OF INTEREST        4826\n",
       "REINSTATEMENT NOTICE        4368\n",
       "DECLARATION                  968\n",
       "CHANGE ENDORSEMENT           889\n",
       "RETURNED CHECK               749\n",
       "EXPIRATION NOTICE            734\n",
       "NON-RENEWAL NOTICE           624\n",
       "BILL BINDER                  289\n",
       "APPLICATION                  229\n",
       "INTENT TO CANCEL NOTICE      229\n",
       "Name: Category, dtype: int64"
      ]
     },
     "execution_count": 3,
     "metadata": {},
     "output_type": "execute_result"
    }
   ],
   "source": [
    "df['Category'].value_counts()"
   ]
  },
  {
   "cell_type": "code",
   "execution_count": 4,
   "metadata": {},
   "outputs": [],
   "source": [
    "from sklearn.feature_extraction.text import TfidfVectorizer\n",
    "\n",
    "tfidf = TfidfVectorizer(sublinear_tf=True, max_df = 0.8, min_df = 0.01, norm='l2', ngram_range=(1, 2))\n",
    "\n",
    "features = tfidf.fit_transform(df['Content'].values.astype('U')).toarray()\n",
    "labels = df['Category']\n",
    "features.shape"
   ]
  },
  {
   "cell_type": "code",
   "execution_count": 6,
   "metadata": {},
   "outputs": [
    {
     "name": "stdout",
     "output_type": "stream",
     "text": [
      "# '0':\n",
      "  . Most correlated unigrams:\n",
      ". 6b223a390d86\n",
      ". d774c0d219f8\n",
      "  . Most correlated bigrams:\n",
      ". ba02159e05b1 892d541c89eb\n",
      ". 6b223a390d86 6ce6cc5a3203\n",
      "# '1':\n",
      "  . Most correlated unigrams:\n",
      ". 296e1c47e3cc\n",
      ". 4bfcec3d7413\n",
      "  . Most correlated bigrams:\n",
      ". 75199e110c91 ff1c26ea0b6f\n",
      ". eb562127f33e c0ed51271129\n",
      "# '2':\n",
      "  . Most correlated unigrams:\n",
      ". d19b1c129f40\n",
      ". 641356219cbc\n",
      "  . Most correlated bigrams:\n",
      ". f95d0bea231b 21e314d3afcc\n",
      ". b9699ce57810 641356219cbc\n",
      "# '3':\n",
      "  . Most correlated unigrams:\n",
      ". d19b1c129f40\n",
      ". 641356219cbc\n",
      "  . Most correlated bigrams:\n",
      ". f95d0bea231b 21e314d3afcc\n",
      ". b9699ce57810 641356219cbc\n",
      "# '4':\n",
      "  . Most correlated unigrams:\n",
      ". d19b1c129f40\n",
      ". 641356219cbc\n",
      "  . Most correlated bigrams:\n",
      ". f95d0bea231b 21e314d3afcc\n",
      ". b9699ce57810 641356219cbc\n",
      "# '5':\n",
      "  . Most correlated unigrams:\n",
      ". 73d8f0e46834\n",
      ". 557ec6c63cf9\n",
      "  . Most correlated bigrams:\n",
      ". 8754554be158 d38820625542\n",
      ". 69e10bcd0d9a c36b062de326\n",
      "# '6':\n",
      "  . Most correlated unigrams:\n",
      ". 73d8f0e46834\n",
      ". 557ec6c63cf9\n",
      "  . Most correlated bigrams:\n",
      ". 8754554be158 d38820625542\n",
      ". 69e10bcd0d9a c36b062de326\n",
      "# '7':\n",
      "  . Most correlated unigrams:\n",
      ". d19b1c129f40\n",
      ". 641356219cbc\n",
      "  . Most correlated bigrams:\n",
      ". f95d0bea231b 21e314d3afcc\n",
      ". b9699ce57810 641356219cbc\n",
      "# '8':\n",
      "  . Most correlated unigrams:\n",
      ". 79f872a2e298\n",
      ". 98d0d51b397c\n",
      "  . Most correlated bigrams:\n",
      ". b9699ce57810 98d0d51b397c\n",
      ". 98d0d51b397c eeb86a6a04e4\n",
      "# '9':\n",
      "  . Most correlated unigrams:\n",
      ". d19b1c129f40\n",
      ". 641356219cbc\n",
      "  . Most correlated bigrams:\n",
      ". f95d0bea231b 21e314d3afcc\n",
      ". b9699ce57810 641356219cbc\n",
      "# '10':\n",
      "  . Most correlated unigrams:\n",
      ". d19b1c129f40\n",
      ". 641356219cbc\n",
      "  . Most correlated bigrams:\n",
      ". f95d0bea231b 21e314d3afcc\n",
      ". b9699ce57810 641356219cbc\n"
     ]
    }
   ],
   "source": [
    "N = 2\n",
    "MAX = 10\n",
    "i = 0\n",
    "for Product, category_id in sorted(labels.items()):\n",
    "    if i > MAX:\n",
    "        break\n",
    "    i = i + 1\n",
    "    features_chi2 = chi2(features, labels == category_id)\n",
    "    indices = np.argsort(features_chi2[0])\n",
    "    feature_names = np.array(tfidf.get_feature_names())[indices]\n",
    "    unigrams = [v for v in feature_names if len(v.split(' ')) == 1]\n",
    "    bigrams = [v for v in feature_names if len(v.split(' ')) == 2]\n",
    "    print(\"# '{}':\".format(Product))\n",
    "    print(\"  . Most correlated unigrams:\\n. {}\".format('\\n. '.join(unigrams[-N:])))\n",
    "    print(\"  . Most correlated bigrams:\\n. {}\".format('\\n. '.join(bigrams[-N:])))"
   ]
  },
  {
   "cell_type": "code",
   "execution_count": null,
   "metadata": {},
   "outputs": [
    {
     "name": "stderr",
     "output_type": "stream",
     "text": [
      "c:\\users\\amandeep\\appdata\\local\\programs\\python\\python37\\lib\\site-packages\\sklearn\\linear_model\\logistic.py:433: FutureWarning: Default solver will be changed to 'lbfgs' in 0.22. Specify a solver to silence this warning.\n",
      "  FutureWarning)\n",
      "c:\\users\\amandeep\\appdata\\local\\programs\\python\\python37\\lib\\site-packages\\sklearn\\linear_model\\logistic.py:460: FutureWarning: Default multi_class will be changed to 'auto' in 0.22. Specify the multi_class option to silence this warning.\n",
      "  \"this warning.\", FutureWarning)\n",
      "c:\\users\\amandeep\\appdata\\local\\programs\\python\\python37\\lib\\site-packages\\sklearn\\linear_model\\logistic.py:433: FutureWarning: Default solver will be changed to 'lbfgs' in 0.22. Specify a solver to silence this warning.\n",
      "  FutureWarning)\n",
      "c:\\users\\amandeep\\appdata\\local\\programs\\python\\python37\\lib\\site-packages\\sklearn\\linear_model\\logistic.py:460: FutureWarning: Default multi_class will be changed to 'auto' in 0.22. Specify the multi_class option to silence this warning.\n",
      "  \"this warning.\", FutureWarning)\n"
     ]
    }
   ],
   "source": [
    "models = [\n",
    "    LinearSVC(),\n",
    "    MultinomialNB(),\n",
    "    LogisticRegression(random_state=0),\n",
    "]\n",
    "CV = 5\n",
    "cv_df = pd.DataFrame(index=range(CV * len(models)))\n",
    "entries = []\n",
    "for model in models:\n",
    "    model_name = model.__class__.__name__\n",
    "    accuracies = cross_val_score(model, features, labels, scoring='accuracy', cv=CV)\n",
    "    for fold_idx, accuracy in enumerate(accuracies):\n",
    "        entries.append((model_name, fold_idx, accuracy))\n",
    "        \n",
    "cv_df = pd.DataFrame(entries, columns=['model_name', 'fold_idx', 'accuracy'])\n"
   ]
  },
  {
   "cell_type": "code",
   "execution_count": null,
   "metadata": {},
   "outputs": [],
   "source": [
    "sns.boxplot(x='model_name', y='accuracy', data=cv_df)\n",
    "sns.stripplot(x='model_name', y='accuracy', data=cv_df, \n",
    "              size=8, jitter=True, edgecolor=\"gray\", linewidth=2)\n",
    "plt.show()"
   ]
  }
 ],
 "metadata": {
  "kernelspec": {
   "display_name": "Python 3",
   "language": "python",
   "name": "python3"
  },
  "language_info": {
   "codemirror_mode": {
    "name": "ipython",
    "version": 3
   },
   "file_extension": ".py",
   "mimetype": "text/x-python",
   "name": "python",
   "nbconvert_exporter": "python",
   "pygments_lexer": "ipython3",
   "version": "3.7.2"
  }
 },
 "nbformat": 4,
 "nbformat_minor": 2
}
