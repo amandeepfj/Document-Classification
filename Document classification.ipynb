{
 "cells": [
  {
   "cell_type": "markdown",
   "metadata": {},
   "source": [
    "## Document Classification."
   ]
  },
  {
   "cell_type": "markdown",
   "metadata": {},
   "source": [
    "### Problem Statement\n",
    "We process documents related to mortgages, aka everything that happens to originate a mortgage that you don't see as a borrower. Often times the only access to a document we have is a scan of a fax of a print out of the document. Our system is able to read and comprehend that document, turning a PDF into structured business content that our customers can act on.\n",
    "\n",
    "This dataset represents the output of the OCR stage of our data pipeline. Since these documents are sensitive financial documents we have not provided you with the raw text that was extracted. Instead we have had to obscure the data. Each word in the source is mapped to one unique value in the output. If the word appears in multiple documents then that value will appear multiple times. The word order for the dataset comes directly from our OCR layer, so it should be roughly in order."
   ]
  },
  {
   "cell_type": "code",
   "execution_count": 1,
   "metadata": {},
   "outputs": [],
   "source": [
    "import pandas as pd\n",
    "import numpy as np\n",
    "from sklearn.feature_selection import chi2\n",
    "from sklearn.linear_model import LogisticRegression\n",
    "from sklearn.svm import LinearSVC\n",
    "from sklearn.model_selection import cross_val_score, train_test_split\n",
    "from sklearn.naive_bayes import MultinomialNB\n",
    "import seaborn as sns\n",
    "import matplotlib.pyplot as plt\n",
    "from sklearn.metrics import confusion_matrix, accuracy_score\n",
    "from sklearn.feature_extraction.text import TfidfVectorizer, CountVectorizer, TfidfTransformer\n",
    "from sklearn.feature_selection import SelectKBest\n",
    "from sklearn.feature_selection import chi2\n",
    "from sklearn.pipeline import Pipeline"
   ]
  },
  {
   "cell_type": "code",
   "execution_count": 2,
   "metadata": {},
   "outputs": [
    {
     "data": {
      "text/html": [
       "<div>\n",
       "<style scoped>\n",
       "    .dataframe tbody tr th:only-of-type {\n",
       "        vertical-align: middle;\n",
       "    }\n",
       "\n",
       "    .dataframe tbody tr th {\n",
       "        vertical-align: top;\n",
       "    }\n",
       "\n",
       "    .dataframe thead th {\n",
       "        text-align: right;\n",
       "    }\n",
       "</style>\n",
       "<table border=\"1\" class=\"dataframe\">\n",
       "  <thead>\n",
       "    <tr style=\"text-align: right;\">\n",
       "      <th></th>\n",
       "      <th>Category</th>\n",
       "      <th>Content</th>\n",
       "    </tr>\n",
       "  </thead>\n",
       "  <tbody>\n",
       "    <tr>\n",
       "      <th>0</th>\n",
       "      <td>DELETION OF INTEREST</td>\n",
       "      <td>e04a09c87692 d6b72e591b91 5d066f0246f1 ed41171...</td>\n",
       "    </tr>\n",
       "    <tr>\n",
       "      <th>1</th>\n",
       "      <td>RETURNED CHECK</td>\n",
       "      <td>a3b334c6eefd be95012ebf2b 41d67080e078 ff1c26e...</td>\n",
       "    </tr>\n",
       "    <tr>\n",
       "      <th>2</th>\n",
       "      <td>BILL</td>\n",
       "      <td>586242498a88 9ccf259ca087 54709b24b45f 6bf9c0c...</td>\n",
       "    </tr>\n",
       "    <tr>\n",
       "      <th>3</th>\n",
       "      <td>BILL</td>\n",
       "      <td>cd50e861f48b 6ca2dd348663 d38820625542 f077614...</td>\n",
       "    </tr>\n",
       "    <tr>\n",
       "      <th>4</th>\n",
       "      <td>BILL</td>\n",
       "      <td>9db5536263d8 1c303d15eb65 3f89b4673455 b73e657...</td>\n",
       "    </tr>\n",
       "  </tbody>\n",
       "</table>\n",
       "</div>"
      ],
      "text/plain": [
       "               Category                                            Content\n",
       "0  DELETION OF INTEREST  e04a09c87692 d6b72e591b91 5d066f0246f1 ed41171...\n",
       "1        RETURNED CHECK  a3b334c6eefd be95012ebf2b 41d67080e078 ff1c26e...\n",
       "2                  BILL  586242498a88 9ccf259ca087 54709b24b45f 6bf9c0c...\n",
       "3                  BILL  cd50e861f48b 6ca2dd348663 d38820625542 f077614...\n",
       "4                  BILL  9db5536263d8 1c303d15eb65 3f89b4673455 b73e657..."
      ]
     },
     "metadata": {},
     "output_type": "display_data"
    },
    {
     "name": "stdout",
     "output_type": "stream",
     "text": [
      "Shape of data is : (62204, 2)\n"
     ]
    }
   ],
   "source": [
    "df = pd.read_csv(\"shuffled-full-set-hashed.csv\", header = None)\n",
    "df.columns = ['Category', 'Content']\n",
    "display(df.head())\n",
    "print(\"Shape of data is : {}\".format(df.shape))"
   ]
  },
  {
   "cell_type": "code",
   "execution_count": 3,
   "metadata": {},
   "outputs": [
    {
     "data": {
      "image/png": "[encoded data removed]",
      "text/plain": [
       "<Figure size 864x288 with 1 Axes>"
      ]
     },
     "metadata": {
      "needs_background": "light"
     },
     "output_type": "display_data"
    },
    {
     "name": "stdout",
     "output_type": "stream",
     "text": [
      "BILL                       18968\n",
      "POLICY CHANGE              10627\n",
      "CANCELLATION NOTICE         9731\n",
      "BINDER                      8973\n",
      "DELETION OF INTEREST        4826\n",
      "REINSTATEMENT NOTICE        4368\n",
      "DECLARATION                  968\n",
      "CHANGE ENDORSEMENT           889\n",
      "RETURNED CHECK               749\n",
      "EXPIRATION NOTICE            734\n",
      "NON-RENEWAL NOTICE           624\n",
      "BILL BINDER                  289\n",
      "APPLICATION                  229\n",
      "INTENT TO CANCEL NOTICE      229\n",
      "Name: Category, dtype: int64\n"
     ]
    }
   ],
   "source": [
    "cnt_categories = df['Category'].value_counts()\n",
    "\n",
    "plt.figure(figsize=(12,4))\n",
    "g = sns.barplot(cnt_categories.index, cnt_categories.values, alpha=0.9)\n",
    "plt.ylabel('Number of Occurrences', fontsize=12)\n",
    "plt.xlabel('Category', fontsize=12)\n",
    "plt.xticks(rotation=90)\n",
    "\n",
    "plt.show()\n",
    "print(cnt_categories)"
   ]
  },
  {
   "cell_type": "markdown",
   "metadata": {},
   "source": [
    "In NLP, we pre-process data by removing stop words, changing the text to lower case, stemming, lemmatization. In our dataset, we cannot do these steps as the words are encoded. Hence, we will calculate Tf-IDF for all the words and use that as the feature for our classification.  The max-df value will act as a regularizing factor for our dataset. Setting a max-df and min-df value will allow our model to generalize. We will do cross-validation to evaluate the models."
   ]
  },
  {
   "cell_type": "code",
   "execution_count": 4,
   "metadata": {},
   "outputs": [
    {
     "data": {
      "text/plain": [
       "(62204, 3652)"
      ]
     },
     "execution_count": 4,
     "metadata": {},
     "output_type": "execute_result"
    }
   ],
   "source": [
    "# term frquency and document frequency vectorizer. Max_df and Min_df will filter out \n",
    "# terms that are very common(present in more than 44% of documents) or very rare(present in less than 1% documents)\n",
    "# we will consider both 1 gram and 2 grams.\n",
    "tfidf = TfidfVectorizer(sublinear_tf=True, max_df = 0.44, min_df = 0.01, norm='l2', ngram_range=(1, 2))\n",
    "\n",
    "features = tfidf.fit_transform(df['Content'].values.astype('U')).toarray()\n",
    "labels = df['Category']\n",
    "all_categories = np.unique(labels)\n",
    "features.shape"
   ]
  },
  {
   "cell_type": "markdown",
   "metadata": {},
   "source": [
    "We will analyze what most correlated unigrams and bigrams for each of the categories are. Although the words are encoded, we can check which words are more correlated to each of the classes, if we can decode those words back to original English words we can validate it."
   ]
  },
  {
   "cell_type": "code",
   "execution_count": 9,
   "metadata": {},
   "outputs": [
    {
     "data": {
      "text/html": [
       "<div>\n",
       "<style scoped>\n",
       "    .dataframe tbody tr th:only-of-type {\n",
       "        vertical-align: middle;\n",
       "    }\n",
       "\n",
       "    .dataframe tbody tr th {\n",
       "        vertical-align: top;\n",
       "    }\n",
       "\n",
       "    .dataframe thead th {\n",
       "        text-align: right;\n",
       "    }\n",
       "</style>\n",
       "<table border=\"1\" class=\"dataframe\">\n",
       "  <thead>\n",
       "    <tr style=\"text-align: right;\">\n",
       "      <th></th>\n",
       "      <th>Category</th>\n",
       "      <th>Most corelated unigrams</th>\n",
       "      <th>Most corelated bigrams</th>\n",
       "    </tr>\n",
       "  </thead>\n",
       "  <tbody>\n",
       "    <tr>\n",
       "      <th>0</th>\n",
       "      <td>APPLICATION</td>\n",
       "      <td>[823d2be57c98, 4298762de22f]</td>\n",
       "      <td>[8b0131ee1005 8b0131ee1005, 1fe62f2b2bff 9de56...</td>\n",
       "    </tr>\n",
       "    <tr>\n",
       "      <th>1</th>\n",
       "      <td>BILL</td>\n",
       "      <td>[d19b1c129f40, 641356219cbc]</td>\n",
       "      <td>[f95d0bea231b 21e314d3afcc, b9699ce57810 64135...</td>\n",
       "    </tr>\n",
       "    <tr>\n",
       "      <th>2</th>\n",
       "      <td>BILL BINDER</td>\n",
       "      <td>[93e786b92f57, 28b12e45914e]</td>\n",
       "      <td>[7d9e333a86da 360e8b28421c, fbe267908bc5 2f254...</td>\n",
       "    </tr>\n",
       "    <tr>\n",
       "      <th>3</th>\n",
       "      <td>BINDER</td>\n",
       "      <td>[388cbcf48919, d8535c18626a]</td>\n",
       "      <td>[6b343f522f78 d8535c18626a, d8535c18626a d3882...</td>\n",
       "    </tr>\n",
       "    <tr>\n",
       "      <th>4</th>\n",
       "      <td>CANCELLATION NOTICE</td>\n",
       "      <td>[79f872a2e298, 98d0d51b397c]</td>\n",
       "      <td>[b9699ce57810 98d0d51b397c, 98d0d51b397c eeb86...</td>\n",
       "    </tr>\n",
       "    <tr>\n",
       "      <th>5</th>\n",
       "      <td>CHANGE ENDORSEMENT</td>\n",
       "      <td>[1a46ce1e6826, 29b62a6f238b]</td>\n",
       "      <td>[458fb753e194 4e7b1501a15b, e616d3a38f90 29b62...</td>\n",
       "    </tr>\n",
       "    <tr>\n",
       "      <th>6</th>\n",
       "      <td>DECLARATION</td>\n",
       "      <td>[36d909566e5c, f36858486ddc]</td>\n",
       "      <td>[7d9e333a86da 360e8b28421c, 586242498a88 b7853...</td>\n",
       "    </tr>\n",
       "    <tr>\n",
       "      <th>7</th>\n",
       "      <td>DELETION OF INTEREST</td>\n",
       "      <td>[6b223a390d86, d774c0d219f8]</td>\n",
       "      <td>[ba02159e05b1 892d541c89eb, 6b223a390d86 6ce6c...</td>\n",
       "    </tr>\n",
       "    <tr>\n",
       "      <th>8</th>\n",
       "      <td>EXPIRATION NOTICE</td>\n",
       "      <td>[0e60c8ecc79d, 3bfb91f64987]</td>\n",
       "      <td>[094453b4e4ae 586242498a88, b9699ce57810 5d764...</td>\n",
       "    </tr>\n",
       "    <tr>\n",
       "      <th>9</th>\n",
       "      <td>INTENT TO CANCEL NOTICE</td>\n",
       "      <td>[74c7b4b972ff, 66b4e66655f9]</td>\n",
       "      <td>[d493c688fb66 07b93136ac77, eb562127f33e c0ed5...</td>\n",
       "    </tr>\n",
       "    <tr>\n",
       "      <th>10</th>\n",
       "      <td>NON-RENEWAL NOTICE</td>\n",
       "      <td>[d09c0aa62654, 8c8e77081f2f]</td>\n",
       "      <td>[4e5019f629a9 d1c85e82b2b6, cdee33987473 b814d...</td>\n",
       "    </tr>\n",
       "    <tr>\n",
       "      <th>11</th>\n",
       "      <td>POLICY CHANGE</td>\n",
       "      <td>[73d8f0e46834, 557ec6c63cf9]</td>\n",
       "      <td>[8754554be158 d38820625542, 69e10bcd0d9a c36b0...</td>\n",
       "    </tr>\n",
       "    <tr>\n",
       "      <th>12</th>\n",
       "      <td>REINSTATEMENT NOTICE</td>\n",
       "      <td>[3bf369e20c6d, f77ad3479ff2]</td>\n",
       "      <td>[f77ad3479ff2 eeb86a6a04e4, eeb86a6a04e4 f77ad...</td>\n",
       "    </tr>\n",
       "    <tr>\n",
       "      <th>13</th>\n",
       "      <td>RETURNED CHECK</td>\n",
       "      <td>[296e1c47e3cc, 4bfcec3d7413]</td>\n",
       "      <td>[75199e110c91 ff1c26ea0b6f, eb562127f33e c0ed5...</td>\n",
       "    </tr>\n",
       "  </tbody>\n",
       "</table>\n",
       "</div>"
      ],
      "text/plain": [
       "                   Category       Most corelated unigrams  \\\n",
       "0               APPLICATION  [823d2be57c98, 4298762de22f]   \n",
       "1                      BILL  [d19b1c129f40, 641356219cbc]   \n",
       "2               BILL BINDER  [93e786b92f57, 28b12e45914e]   \n",
       "3                    BINDER  [388cbcf48919, d8535c18626a]   \n",
       "4       CANCELLATION NOTICE  [79f872a2e298, 98d0d51b397c]   \n",
       "5        CHANGE ENDORSEMENT  [1a46ce1e6826, 29b62a6f238b]   \n",
       "6               DECLARATION  [36d909566e5c, f36858486ddc]   \n",
       "7      DELETION OF INTEREST  [6b223a390d86, d774c0d219f8]   \n",
       "8         EXPIRATION NOTICE  [0e60c8ecc79d, 3bfb91f64987]   \n",
       "9   INTENT TO CANCEL NOTICE  [74c7b4b972ff, 66b4e66655f9]   \n",
       "10       NON-RENEWAL NOTICE  [d09c0aa62654, 8c8e77081f2f]   \n",
       "11            POLICY CHANGE  [73d8f0e46834, 557ec6c63cf9]   \n",
       "12     REINSTATEMENT NOTICE  [3bf369e20c6d, f77ad3479ff2]   \n",
       "13           RETURNED CHECK  [296e1c47e3cc, 4bfcec3d7413]   \n",
       "\n",
       "                               Most corelated bigrams  \n",
       "0   [8b0131ee1005 8b0131ee1005, 1fe62f2b2bff 9de56...  \n",
       "1   [f95d0bea231b 21e314d3afcc, b9699ce57810 64135...  \n",
       "2   [7d9e333a86da 360e8b28421c, fbe267908bc5 2f254...  \n",
       "3   [6b343f522f78 d8535c18626a, d8535c18626a d3882...  \n",
       "4   [b9699ce57810 98d0d51b397c, 98d0d51b397c eeb86...  \n",
       "5   [458fb753e194 4e7b1501a15b, e616d3a38f90 29b62...  \n",
       "6   [7d9e333a86da 360e8b28421c, 586242498a88 b7853...  \n",
       "7   [ba02159e05b1 892d541c89eb, 6b223a390d86 6ce6c...  \n",
       "8   [094453b4e4ae 586242498a88, b9699ce57810 5d764...  \n",
       "9   [d493c688fb66 07b93136ac77, eb562127f33e c0ed5...  \n",
       "10  [4e5019f629a9 d1c85e82b2b6, cdee33987473 b814d...  \n",
       "11  [8754554be158 d38820625542, 69e10bcd0d9a c36b0...  \n",
       "12  [f77ad3479ff2 eeb86a6a04e4, eeb86a6a04e4 f77ad...  \n",
       "13  [75199e110c91 ff1c26ea0b6f, eb562127f33e c0ed5...  "
      ]
     },
     "execution_count": 9,
     "metadata": {},
     "output_type": "execute_result"
    }
   ],
   "source": [
    "N = 2\n",
    "categories = []\n",
    "most_corelated_unigrams = []\n",
    "most_corelated_bigrams = []\n",
    "for category_id in all_categories:\n",
    "    features_chi2 = chi2(features, labels == category_id)\n",
    "    indices = np.argsort(features_chi2[0])\n",
    "    feature_names = np.array(tfidf.get_feature_names())[indices]\n",
    "    unigrams = [v for v in feature_names if len(v.split(' ')) == 1]\n",
    "    bigrams = [v for v in feature_names if len(v.split(' ')) == 2]\n",
    "    categories.append(category_id)\n",
    "    most_corelated_unigrams.append(unigrams[-N:])\n",
    "    most_corelated_bigrams.append(bigrams[-N:])\n",
    "\n",
    "pd.DataFrame({'Category' : categories, 'Most corelated unigrams' : most_corelated_unigrams, \n",
    "              'Most corelated bigrams' : most_corelated_bigrams})"
   ]
  },
  {
   "cell_type": "code",
   "execution_count": 10,
   "metadata": {},
   "outputs": [
    {
     "name": "stderr",
     "output_type": "stream",
     "text": [
      "c:\\users\\amandeep\\appdata\\local\\programs\\python\\python37\\lib\\site-packages\\sklearn\\linear_model\\logistic.py:433: FutureWarning: Default solver will be changed to 'lbfgs' in 0.22. Specify a solver to silence this warning.\n",
      "  FutureWarning)\n",
      "c:\\users\\amandeep\\appdata\\local\\programs\\python\\python37\\lib\\site-packages\\sklearn\\linear_model\\logistic.py:460: FutureWarning: Default multi_class will be changed to 'auto' in 0.22. Specify the multi_class option to silence this warning.\n",
      "  \"this warning.\", FutureWarning)\n",
      "c:\\users\\amandeep\\appdata\\local\\programs\\python\\python37\\lib\\site-packages\\sklearn\\linear_model\\logistic.py:433: FutureWarning: Default solver will be changed to 'lbfgs' in 0.22. Specify a solver to silence this warning.\n",
      "  FutureWarning)\n",
      "c:\\users\\amandeep\\appdata\\local\\programs\\python\\python37\\lib\\site-packages\\sklearn\\linear_model\\logistic.py:460: FutureWarning: Default multi_class will be changed to 'auto' in 0.22. Specify the multi_class option to silence this warning.\n",
      "  \"this warning.\", FutureWarning)\n",
      "c:\\users\\amandeep\\appdata\\local\\programs\\python\\python37\\lib\\site-packages\\sklearn\\linear_model\\logistic.py:433: FutureWarning: Default solver will be changed to 'lbfgs' in 0.22. Specify a solver to silence this warning.\n",
      "  FutureWarning)\n",
      "c:\\users\\amandeep\\appdata\\local\\programs\\python\\python37\\lib\\site-packages\\sklearn\\linear_model\\logistic.py:460: FutureWarning: Default multi_class will be changed to 'auto' in 0.22. Specify the multi_class option to silence this warning.\n",
      "  \"this warning.\", FutureWarning)\n",
      "c:\\users\\amandeep\\appdata\\local\\programs\\python\\python37\\lib\\site-packages\\sklearn\\linear_model\\logistic.py:433: FutureWarning: Default solver will be changed to 'lbfgs' in 0.22. Specify a solver to silence this warning.\n",
      "  FutureWarning)\n",
      "c:\\users\\amandeep\\appdata\\local\\programs\\python\\python37\\lib\\site-packages\\sklearn\\linear_model\\logistic.py:460: FutureWarning: Default multi_class will be changed to 'auto' in 0.22. Specify the multi_class option to silence this warning.\n",
      "  \"this warning.\", FutureWarning)\n",
      "c:\\users\\amandeep\\appdata\\local\\programs\\python\\python37\\lib\\site-packages\\sklearn\\linear_model\\logistic.py:433: FutureWarning: Default solver will be changed to 'lbfgs' in 0.22. Specify a solver to silence this warning.\n",
      "  FutureWarning)\n",
      "c:\\users\\amandeep\\appdata\\local\\programs\\python\\python37\\lib\\site-packages\\sklearn\\linear_model\\logistic.py:460: FutureWarning: Default multi_class will be changed to 'auto' in 0.22. Specify the multi_class option to silence this warning.\n",
      "  \"this warning.\", FutureWarning)\n"
     ]
    }
   ],
   "source": [
    "# We will try a few models\n",
    "models = [\n",
    "    LinearSVC(),\n",
    "    LogisticRegression(random_state=0),\n",
    "    MultinomialNB()\n",
    "]\n",
    "\n",
    "# 5 fold cross validation\n",
    "CV = 5\n",
    "\n",
    "entries = []\n",
    "for model in models:\n",
    "    model_name = model.__class__.__name__\n",
    "    accuracies = cross_val_score(model, features, labels, scoring='accuracy', cv=CV)\n",
    "    for fold_idx, accuracy in enumerate(accuracies):\n",
    "        entries.append((model_name, fold_idx, accuracy))\n",
    "        \n",
    "cv_df = pd.DataFrame(entries, columns=['model_name', 'fold_idx', 'accuracy'])"
   ]
  },
  {
   "cell_type": "code",
   "execution_count": 11,
   "metadata": {},
   "outputs": [
    {
     "data": {
      "image/png": "[encoded data removed]",
      "text/plain": [
       "<Figure size 432x288 with 1 Axes>"
      ]
     },
     "metadata": {
      "needs_background": "light"
     },
     "output_type": "display_data"
    }
   ],
   "source": [
    "sns.boxplot(x='model_name', y='accuracy', data=cv_df)\n",
    "sns.stripplot(x='model_name', y='accuracy', data=cv_df, \n",
    "              size=8, jitter=True, edgecolor=\"gray\", linewidth=2)\n",
    "plt.show()"
   ]
  },
  {
   "cell_type": "code",
   "execution_count": 10,
   "metadata": {},
   "outputs": [],
   "source": [
    "model = LinearSVC()\n",
    "X_train, X_test, y_train, y_test, indices_train, indices_test = train_test_split(features, labels, df.index, \n",
    "                                                                                 test_size=0.2, random_state=0)\n",
    "model.fit(X_train, y_train)\n",
    "y_pred = model.predict(X_test)\n",
    "conf_mat = confusion_matrix(y_test, y_pred)"
   ]
  },
  {
   "cell_type": "code",
   "execution_count": 11,
   "metadata": {},
   "outputs": [
    {
     "name": "stdout",
     "output_type": "stream",
     "text": [
      "0.8716341130134233\n"
     ]
    }
   ],
   "source": [
    "print(accuracy_score(y_test, y_pred))"
   ]
  },
  {
   "cell_type": "code",
   "execution_count": 12,
   "metadata": {},
   "outputs": [
    {
     "data": {
      "image/png": "[encoded data removed]",
      "text/plain": [
       "<Figure size 720x720 with 2 Axes>"
      ]
     },
     "metadata": {
      "needs_background": "light"
     },
     "output_type": "display_data"
    }
   ],
   "source": [
    "fig, ax = plt.subplots(figsize=(10,10))\n",
    "category_ids = df.groupby(['Category']).count().index\n",
    "sns.heatmap(conf_mat, annot=True, fmt='d',\n",
    "           xticklabels=category_ids, yticklabels=category_ids)\n",
    "plt.ylabel('Actual')\n",
    "plt.xlabel('Predicted')\n",
    "plt.show()"
   ]
  },
  {
   "cell_type": "code",
   "execution_count": 80,
   "metadata": {},
   "outputs": [
    {
     "name": "stderr",
     "output_type": "stream",
     "text": [
      "c:\\users\\amandeep\\appdata\\local\\programs\\python\\python37\\lib\\site-packages\\sklearn\\model_selection\\_split.py:2053: FutureWarning: You should specify a value for 'cv' instead of relying on the default value. The default value will change from 3 to 5 in version 0.22.\n",
      "  warnings.warn(CV_WARNING, FutureWarning)\n"
     ]
    },
    {
     "data": {
      "text/plain": [
       "['Flask_Application/model.pkl']"
      ]
     },
     "execution_count": 80,
     "metadata": {},
     "output_type": "execute_result"
    }
   ],
   "source": [
    "# train a small model first and test.\n",
    "#(features_train, labels_train) = (df.loc[1:50, 'Content'].values.astype('U'), df.loc[1:50, 'Category'])\n",
    "(features_train, labels_train) = (df.loc[:, 'Content'].values.astype('U'), df.loc[:, 'Category'])\n",
    "\n",
    "### TfidfVectorizer\n",
    "tfidfv = TfidfVectorizer(ngram_range=(1, 2), min_df=0.01, max_df=0.44, norm='l2')\n",
    "\n",
    "## Selector.\n",
    "selector = SelectKBest(chi2, k=1000)\n",
    "\n",
    "## Linear SVC model.\n",
    "linear_svc = LinearSVC()\n",
    "\n",
    "calibrated_svc = CalibratedClassifierCV(linear_svc, method='sigmoid')\n",
    "\n",
    "linearsvc = Pipeline([('vect', tfidfv),\n",
    "                      ('selector', selector),\n",
    "                      ('clf', calibrated_svc),\n",
    "                      ])\n",
    "\n",
    "linearsvc.fit(features_train, labels_train)\n",
    "from sklearn.externals import joblib\n",
    "joblib.dump(linearsvc, 'Flask_Application/model.pkl')"
   ]
  },
  {
   "cell_type": "code",
   "execution_count": 13,
   "metadata": {},
   "outputs": [
    {
     "name": "stdout",
     "output_type": "stream",
     "text": [
      "Feature Count\n",
      "CountVectorizer() # 3651\n"
     ]
    },
    {
     "data": {
      "text/plain": [
       "array(['BILL', 'BINDER', 'BILL', ..., 'CHANGE ENDORSEMENT',\n",
       "       'CANCELLATION NOTICE', 'BILL'], dtype=object)"
      ]
     },
     "execution_count": 13,
     "metadata": {},
     "output_type": "execute_result"
    }
   ],
   "source": [
    "features_train, features_test, labels_train, labels_test = train_test_split(df['Content'], df['Category'], random_state = 42, test_size=0.34)\n",
    "\n",
    "### TfidfVectorizer\n",
    "cv = TfidfVectorizer(ngram_range=(1,2), min_df=0.01, max_df=0.44, norm='l2')\n",
    "features_train_cv = cv.fit_transform(features_train.values.astype('U'))\n",
    "\n",
    "print(\"Feature Count\\nCountVectorizer() #\", len(cv.get_feature_names()))\n",
    "\n",
    "selector = SelectKBest(chi2, k=1000)\n",
    "selector.fit(features_train_cv, labels_train)\n",
    "\n",
    "clf = LinearSVC()\n",
    "clf.fit(selector.transform(features_train_cv), labels_train)\n",
    "\n",
    "\n",
    "features_test_cv = cv.transform(features_test.values.astype('U'))\n",
    "features_test_cv = selector.transform(features_test_cv)\n",
    "pred = clf.predict(features_test_cv)\n",
    "pred"
   ]
  },
  {
   "cell_type": "code",
   "execution_count": 76,
   "metadata": {},
   "outputs": [
    {
     "data": {
      "text/plain": [
       "['Flask_Application/model_small.pkl']"
      ]
     },
     "execution_count": 76,
     "metadata": {},
     "output_type": "execute_result"
    }
   ],
   "source": [
    "(features_train, labels_train) = (df.loc[1:40, 'Content'].values.astype('U'), df.loc[1:40, 'Category'])\n",
    "\n",
    "### TfidfVectorizer\n",
    "tfidfv = TfidfVectorizer(ngram_range=(1,2), min_df=0.01, max_df=0.44, norm='l2')\n",
    "\n",
    "## Selector\n",
    "selector = SelectKBest(chi2, k=1000)\n",
    "\n",
    "linearsvc = Pipeline([('vect', tfidfv),\n",
    "                ('selector', selector),\n",
    "                ('clf', clf),\n",
    "               ])\n",
    "linearsvc.fit(features_train, labels_train)\n",
    "\n",
    "from sklearn.externals import joblib\n",
    "joblib.dump(linearsvc, 'Flask_Application/model_small.pkl')"
   ]
  },
  {
   "cell_type": "code",
   "execution_count": 15,
   "metadata": {},
   "outputs": [
    {
     "data": {
      "text/plain": [
       "['model_2.pkl']"
      ]
     },
     "execution_count": 15,
     "metadata": {},
     "output_type": "execute_result"
    }
   ],
   "source": [
    "from sklearn.externals import joblib\n",
    "joblib.dump(linearsvc, 'model_2.pkl', protocol=2)"
   ]
  },
  {
   "cell_type": "code",
   "execution_count": 16,
   "metadata": {},
   "outputs": [],
   "source": [
    "classifier = open('model.pkl', 'rb')\n",
    "model = joblib.load(classifier)"
   ]
  },
  {
   "cell_type": "code",
   "execution_count": 59,
   "metadata": {},
   "outputs": [
    {
     "name": "stdout",
     "output_type": "stream",
     "text": [
      "['RETURNED CHECK']\n"
     ]
    },
    {
     "data": {
      "text/plain": [
       "0.7404794211208244"
      ]
     },
     "execution_count": 59,
     "metadata": {},
     "output_type": "execute_result"
    }
   ],
   "source": [
    "print(linearsvc.predict([df.iloc[1]['Content']]))\n",
    "linearsvc.predict_proba([df.iloc[1]['Content']]).max()"
   ]
  },
  {
   "cell_type": "code",
   "execution_count": 85,
   "metadata": {},
   "outputs": [
    {
     "name": "stdout",
     "output_type": "stream",
     "text": [
      "BILL\n"
     ]
    },
    {
     "data": {
      "text/plain": [
       "'a86e61940a88 87b8193a0183 11e7ba3aad70 5768721c4059 d38820625542 6ca2dd348663 5e3551cde154 20a84e403407 b1980f7134ca a86e61940a88 3994376f7e92 7d9e333a86da 31eba8335f91 79aa7fd11cec b136f6349cf3 036087ac04f9 1dfee5aa1e4c e872b963c663 7146e19b9776 9b16d62c7990 a0e2fc3c1c98 f3ac381a9884 43af6db29054 1b6d0614f2c7 10e45001c2f2 586242498a88 a0e2fc3c1c98 ba8f19d976a8 3fc879c6be39 ce1f034abb5d a0c020166d79 6dcc75eaf823 6101ed18e42f 8d21095e8690 d19b1c129f40 48d657cd9861 4e5019f629a9 6bff0c8c1185 ce00eff819b7 ce1f034abb5d 25c57acdf805 ff478dde1f33 81757efac276 21e314d3afcc a1d5a5e41756 78192456b1f6 8f75273e5510 ba7229c9285d 4019c142c6b0 e5e97c8ea817 cd0bd661a41e 26f768da5068 6af770640118 26f768da5068 6af770640118 26f768da5068 6af770640118 dd3e0f7ead71 867946c6808d 2979f8b5c8c4 73ef9fd67984 73ef9fd67984 61dbb745c724 26f768da5068 7d0b2f99f8dc 83ea375ad9e5 0c4ce226d9fe 73ef9fd67984 de4f651eb63b fff0cfcb20d5 cbfb3eb99bea 43565b1afa44 2bcce4e05d9d 5948001254b3 2b2acdf4a3ed eb562127f33e 8f75273e5510 09aea78efbe3 2979f8b5c8c4 dd3e0f7ead71 867946c6808d e096f0c08493 edd46208dcad 14eeb8096941 843a30201b85 26f768da5068 3eee1ce2a7bf a10b45c78387 7b13c1bc3fc2 98cd9c3a1e46 07ee0b485c47 aed969aac7a8 dd82af08389c 25c57acdf805 f95d0bea231b cdf741e78626 448cca02dae6 fe081ae57a8b 7d9e333a86da cdd31b2d9892 46c88d9303da a09620dd4350 6bf9c0cb01b4 f36e139d9400 c337a85b8ef9 b9699ce57810 f11e7777d8b5 7da013d33f12 1068682ce752 1068682ce752 1068682ce752 1068682ce752 1068682ce752 1068682ce752 1068682ce752 1068682ce752 1068682ce752 b208ae1e8232 1068682ce752 a86f2ba617ec a0c020166d79 c79b01c5629d db22d00336d3 a0c020166d79 c79b01c5629d 1b6d0614f2c7 c5dcd74b40a9 586242498a88 6ca2dd348663 d38820625542 5d3575dae8b7 b0102a0ac952 9ddcc56e3e27 79aa7fd11cec 1068682ce752 1068682ce752 e4c389c90168 8b363e6fdb6a 004029493d0e f066fbe0bc6e 6ca2dd348663 d38820625542 f066fbe0bc6e 586242498a88 586242498a88 79aa7fd11cec 7d9e333a86da b0102a0ac952 b814d9d78802 45809169e7c4 1c303d15eb65 3fb23551c726 ed1e3242ee34 55da856115d3 9db5536263d8 46c88d9303da a09620dd4350 641356219cbc 81757efac276 21e314d3afcc a0c020166d79 c79b01c5629d 1b6d0614f2c7 cdd31b2d9892 422068f04236 b59e343416f7 af671fbeb212 6bc122aa4b06 cd28aa0d62e2 e67eb757a353 6d25574664d2 0a4cda7f945f 6bc122aa4b06 cd28aa0d62e2 7a403ce898a7 9db5536263d8 f2b0e028fe2c 422068f04236 b73e657498f2 1ab34730c1e0 d493c688fb66 25c57acdf805 a1bb6b4223d9 b0102a0ac952 1169f8aa8528 2bcce4e05d9d 6a01047db3ab a0e2fc3c1c98 6ce6cc5a3203 e872b963c663 1dfee5aa1e4c 9b16d62c7990 7146e19b9776 036087ac04f9 a0c020166d79 c79b01c5629d 1b6d0614f2c7 641356219cbc 422068f04236 2c7bf164f375 af671fbeb212 81757efac276 21e314d3afcc 9b16d62c7990 1dfee5aa1e4c 036087ac04f9 7146e19b9776 e872b963c663 48d657cd9861 10e45001c2f2 b136f6349cf3 43af6db29054 586242498a88 018dd28f9cb5 c5dcd74b40a9 45ec8f372a45 25c57acdf805 5be138559904 286937d51e36 b73e657498f2 1ab34730c1e0 4e5019f629a9 d1c85e82b2b6 10e45001c2f2 10e45001c2f2 5579911eff73 5c02c2aaa67b e2e1fac9af82 04503bc22789 6bdb1352a45b 5be138559904 6101ed18e42f c5dcd74b40a9 422068f04236 6a01047db3ab 81757efac276 21e314d3afcc 0a4cda7f945f b59e343416f7 6d25574664d2 6dcc75eaf823 970fa0bfadc2 3fc879c6be39 1b6d0614f2c7 4ce4bfb42e22 a0c020166d79 1a237b972095 b7a0f56f6ce8 3639741fd757 9492c7c13404 ce1f034abb5d e5e97c8ea817 62916289176e 5ee06767bc0f 2de82c64620a 93790ade6682 4357c81e10c1 a31962fbd5f3 1c303d15eb65 3fb23551c726 ed1e3242ee34 b61f1af56200 036087ac04f9 b136f6349cf3 6bff0c8c1185 e67eb757a353'"
      ]
     },
     "execution_count": 85,
     "metadata": {},
     "output_type": "execute_result"
    }
   ],
   "source": [
    "print(df.iloc[122]['Category'])\n",
    "df.iloc[122]['Content']"
   ]
  },
  {
   "cell_type": "code",
   "execution_count": 30,
   "metadata": {},
   "outputs": [
    {
     "data": {
      "text/plain": [
       "Category                                 DELETION OF INTEREST\n",
       "Content     e04a09c87692 d6b72e591b91 5d066f0246f1 ed41171...\n",
       "Name: 0, dtype: object"
      ]
     },
     "execution_count": 30,
     "metadata": {},
     "output_type": "execute_result"
    }
   ],
   "source": [
    "df.iloc[0]"
   ]
  },
  {
   "cell_type": "code",
   "execution_count": 24,
   "metadata": {},
   "outputs": [],
   "source": [
    "from sklearn.externals import joblib\n",
    "classifier = open('model_light.pkl', 'rb')\n",
    "model = joblib.load(classifier)"
   ]
  },
  {
   "cell_type": "code",
   "execution_count": null,
   "metadata": {},
   "outputs": [],
   "source": []
  }
 ],
 "metadata": {
  "kernelspec": {
   "display_name": "Python 3",
   "language": "python",
   "name": "python3"
  },
  "language_info": {
   "codemirror_mode": {
    "name": "ipython",
    "version": 3
   },
   "file_extension": ".py",
   "mimetype": "text/x-python",
   "name": "python",
   "nbconvert_exporter": "python",
   "pygments_lexer": "ipython3",
   "version": "3.7.2"
  }
 },
 "nbformat": 4,
 "nbformat_minor": 2
}
